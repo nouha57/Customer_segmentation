{
 "cells": [
  {
   "cell_type": "code",
   "execution_count": 1,
   "metadata": {},
   "outputs": [
    {
     "name": "stderr",
     "output_type": "stream",
     "text": [
      "C:\\Users\\LENOVO\\anaconda3\\lib\\site-packages\\numpy\\_distributor_init.py:30: UserWarning: loaded more than 1 DLL from .libs:\n",
      "C:\\Users\\LENOVO\\anaconda3\\lib\\site-packages\\numpy\\.libs\\libopenblas.QVLO2T66WEPI7JZ63PS3HMOHFEY472BC.gfortran-win_amd64.dll\n",
      "C:\\Users\\LENOVO\\anaconda3\\lib\\site-packages\\numpy\\.libs\\libopenblas.WCDJNK7YVMPZQ2ME2ZZHJJRJ3JIKNDB7.gfortran-win_amd64.dll\n",
      "  warnings.warn(\"loaded more than 1 DLL from .libs:\"\n"
     ]
    }
   ],
   "source": [
    "import pandas as pd\n",
    "import numpy as np \n",
    "import matplotlib.pyplot as plt\n",
    "import seaborn as sns\n",
    "import gc\n",
    "pd.options.mode.chained_assignment = None\n",
    "\n",
    "root = 'c:/P2M_TESTS/working_on_it/'"
   ]
  },
  {
   "cell_type": "code",
   "execution_count": 2,
   "metadata": {},
   "outputs": [],
   "source": [
    "from datetime import datetime\n",
    "from dateutil.relativedelta import relativedelta"
   ]
  },
  {
   "cell_type": "markdown",
   "metadata": {},
   "source": [
    "Reading data"
   ]
  },
  {
   "cell_type": "code",
   "execution_count": 3,
   "metadata": {},
   "outputs": [
    {
     "name": "stderr",
     "output_type": "stream",
     "text": [
      "C:\\Users\\LENOVO\\AppData\\Roaming\\Python\\Python38\\site-packages\\IPython\\core\\interactiveshell.py:3165: DtypeWarning: Columns (3) have mixed types.Specify dtype option on import or set low_memory=False.\n",
      "  has_raised = await self.run_ast_nodes(code_ast.body, cell_name,\n"
     ]
    }
   ],
   "source": [
    "df1=pd.read_csv(\"c:/P2M_TESTS/working_on_it/Data/2017.txt\", sep=\" \" ,delimiter=\";\")\n"
   ]
  },
  {
   "cell_type": "code",
   "execution_count": 4,
   "metadata": {},
   "outputs": [],
   "source": [
    "df2=pd.read_csv(\"c:/P2M_TESTS/working_on_it/Data/2018.txt\", sep=\" \" ,delimiter=\";\")"
   ]
  },
  {
   "cell_type": "markdown",
   "metadata": {},
   "source": [
    "## EDA -Data Preprocessing"
   ]
  },
  {
   "cell_type": "code",
   "execution_count": 5,
   "metadata": {},
   "outputs": [],
   "source": [
    "#merging the 2 datasets \n",
    "df=pd.concat([df1, df2])"
   ]
  },
  {
   "cell_type": "code",
   "execution_count": 6,
   "metadata": {},
   "outputs": [
    {
     "data": {
      "text/html": [
       "<div>\n",
       "<style scoped>\n",
       "    .dataframe tbody tr th:only-of-type {\n",
       "        vertical-align: middle;\n",
       "    }\n",
       "\n",
       "    .dataframe tbody tr th {\n",
       "        vertical-align: top;\n",
       "    }\n",
       "\n",
       "    .dataframe thead th {\n",
       "        text-align: right;\n",
       "    }\n",
       "</style>\n",
       "<table border=\"1\" class=\"dataframe\">\n",
       "  <thead>\n",
       "    <tr style=\"text-align: right;\">\n",
       "      <th></th>\n",
       "      <th>Store_ID</th>\n",
       "      <th>Date</th>\n",
       "      <th>Basket_ID</th>\n",
       "      <th>Structure_ID</th>\n",
       "      <th>Article_ID</th>\n",
       "      <th>Quantity</th>\n",
       "      <th>Amount_Paid</th>\n",
       "      <th>Cust_ID</th>\n",
       "    </tr>\n",
       "  </thead>\n",
       "  <tbody>\n",
       "    <tr>\n",
       "      <th>1960989</th>\n",
       "      <td>91</td>\n",
       "      <td>20181231</td>\n",
       "      <td>91648594</td>\n",
       "      <td>2865438133779</td>\n",
       "      <td>71032374.0</td>\n",
       "      <td>2.0</td>\n",
       "      <td>9.091</td>\n",
       "      <td>796985</td>\n",
       "    </tr>\n",
       "    <tr>\n",
       "      <th>1960990</th>\n",
       "      <td>91</td>\n",
       "      <td>20181231</td>\n",
       "      <td>91648594</td>\n",
       "      <td>2866480013777</td>\n",
       "      <td>70633122.0</td>\n",
       "      <td>1.0</td>\n",
       "      <td>1.818</td>\n",
       "      <td>796985</td>\n",
       "    </tr>\n",
       "    <tr>\n",
       "      <th>1960991</th>\n",
       "      <td>91</td>\n",
       "      <td>20181231</td>\n",
       "      <td>91648594</td>\n",
       "      <td>2866480037979</td>\n",
       "      <td>70632850.0</td>\n",
       "      <td>2.0</td>\n",
       "      <td>3.636</td>\n",
       "      <td>796985</td>\n",
       "    </tr>\n",
       "    <tr>\n",
       "      <th>1960992</th>\n",
       "      <td>91</td>\n",
       "      <td>20181231</td>\n",
       "      <td>91648594</td>\n",
       "      <td>2866480037979</td>\n",
       "      <td>70730410.0</td>\n",
       "      <td>1.0</td>\n",
       "      <td>1.818</td>\n",
       "      <td>796985</td>\n",
       "    </tr>\n",
       "    <tr>\n",
       "      <th>1960993</th>\n",
       "      <td>91</td>\n",
       "      <td>20181231</td>\n",
       "      <td>91648594</td>\n",
       "      <td>2866480037979</td>\n",
       "      <td>70730412.0</td>\n",
       "      <td>1.0</td>\n",
       "      <td>1.818</td>\n",
       "      <td>796985</td>\n",
       "    </tr>\n",
       "  </tbody>\n",
       "</table>\n",
       "</div>"
      ],
      "text/plain": [
       "         Store_ID      Date  Basket_ID   Structure_ID  Article_ID  Quantity  \\\n",
       "1960989        91  20181231   91648594  2865438133779  71032374.0       2.0   \n",
       "1960990        91  20181231   91648594  2866480013777  70633122.0       1.0   \n",
       "1960991        91  20181231   91648594  2866480037979  70632850.0       2.0   \n",
       "1960992        91  20181231   91648594  2866480037979  70730410.0       1.0   \n",
       "1960993        91  20181231   91648594  2866480037979  70730412.0       1.0   \n",
       "\n",
       "         Amount_Paid  Cust_ID  \n",
       "1960989        9.091   796985  \n",
       "1960990        1.818   796985  \n",
       "1960991        3.636   796985  \n",
       "1960992        1.818   796985  \n",
       "1960993        1.818   796985  "
      ]
     },
     "execution_count": 6,
     "metadata": {},
     "output_type": "execute_result"
    }
   ],
   "source": [
    "df.tail()"
   ]
  },
  {
   "cell_type": "code",
   "execution_count": 11,
   "metadata": {},
   "outputs": [
    {
     "data": {
      "text/plain": [
       "Store_ID        0\n",
       "Date            0\n",
       "Basket_ID       0\n",
       "Structure_ID    0\n",
       "Article_ID      0\n",
       "Quantity        0\n",
       "Amount_Paid     0\n",
       "Cust_ID         0\n",
       "dtype: int64"
      ]
     },
     "execution_count": 11,
     "metadata": {},
     "output_type": "execute_result"
    }
   ],
   "source": [
    "df.isnull().sum()"
   ]
  },
  {
   "cell_type": "code",
   "execution_count": 8,
   "metadata": {},
   "outputs": [],
   "source": [
    "#removing observations tht have null values 'Structure_ID' and 'Article_ID'\n",
    "df = df[pd.notnull(df['Structure_ID'])]"
   ]
  },
  {
   "cell_type": "code",
   "execution_count": 10,
   "metadata": {},
   "outputs": [
    {
     "name": "stdout",
     "output_type": "stream",
     "text": [
      "         Store_ID      Date  Basket_ID   Structure_ID   Article_ID  Quantity  \\\n",
      "1545           91  20170101   91290281  1173201070159  662000067.0     -3.00   \n",
      "2933           91  20170102   91027217  1443643010202  436041880.0     -1.00   \n",
      "2934           91  20170102   91027217  1443643010202  436042700.0     -1.00   \n",
      "2935           91  20170102   91027217  1443654010702  434001480.0     -1.00   \n",
      "2936           91  20170102   91027217  1443654010702  434001640.0     -1.00   \n",
      "...           ...       ...        ...            ...          ...       ...   \n",
      "1956265        91  20181231   91415076  1114121011126  613480497.0     -2.00   \n",
      "1957822        91  20181231   91454917  1335523010701  700082008.0     -1.00   \n",
      "1958054        91  20181231   91476487  1114149020222  645080010.0     -1.00   \n",
      "1958608        91  20181231   91546329  1203600010701  641784448.0     -1.06   \n",
      "1960272        91  20181231   91581148  1101168130101  611642657.0     -1.00   \n",
      "\n",
      "         Amount_Paid  Cust_ID  \n",
      "1545          -2.970   480376  \n",
      "2933          -9.200    46985  \n",
      "2934          -9.200    46985  \n",
      "2935          -6.790    46985  \n",
      "2936          -6.790    46985  \n",
      "...              ...      ...  \n",
      "1956265       -2.660    25362  \n",
      "1957822      -12.550  1064057  \n",
      "1958054       -4.625    63794  \n",
      "1958608      -25.760   332179  \n",
      "1960272       -9.450    20067  \n",
      "\n",
      "[3089 rows x 8 columns]\n"
     ]
    }
   ],
   "source": [
    "print(df[df['Quantity']<0 ])"
   ]
  },
  {
   "cell_type": "markdown",
   "metadata": {},
   "source": [
    "As we can see, there are 3089 rows ( observations ) with negative quantities, they correspond to mistakes made during data collection and must be removed "
   ]
  },
  {
   "cell_type": "code",
   "execution_count": 12,
   "metadata": {},
   "outputs": [],
   "source": [
    "# removing observations having Quantity<0 \n",
    "df=df[(df['Quantity']>0)]"
   ]
  },
  {
   "cell_type": "code",
   "execution_count": 13,
   "metadata": {},
   "outputs": [
    {
     "data": {
      "text/plain": [
       "(3921694, 8)"
      ]
     },
     "execution_count": 13,
     "metadata": {},
     "output_type": "execute_result"
    }
   ],
   "source": [
    "df.shape"
   ]
  },
  {
   "cell_type": "code",
   "execution_count": 17,
   "metadata": {},
   "outputs": [
    {
     "name": "stdout",
     "output_type": "stream",
     "text": [
      "Number of unique customer ID: 22990\n"
     ]
    }
   ],
   "source": [
    "print(\"Number of unique customer ID: {}\".format(df['Cust_ID'].nunique()))"
   ]
  },
  {
   "cell_type": "markdown",
   "metadata": {},
   "source": [
    "After doing some cleaning, our dataframe contains 3 921 694 observations in total "
   ]
  },
  {
   "cell_type": "code",
   "execution_count": 14,
   "metadata": {},
   "outputs": [],
   "source": [
    "#converting 'Date' into Datetime type\n",
    "df['Date'] = pd.to_datetime(df['Date'], format='%Y%m%d')"
   ]
  },
  {
   "cell_type": "code",
   "execution_count": 15,
   "metadata": {},
   "outputs": [
    {
     "name": "stderr",
     "output_type": "stream",
     "text": [
      "<ipython-input-15-f94811dda6a7>:3: FutureWarning: Series.dt.weekofyear and Series.dt.week have been deprecated.  Please use Series.dt.isocalendar().week instead.\n",
      "  df['Week'] = df['Date'].dt.week\n"
     ]
    }
   ],
   "source": [
    "df['Year'] = df['Date'].dt.year\n",
    "df['Month'] = df['Date'].dt.month\n",
    "df['Week'] = df['Date'].dt.week\n",
    "df['Day of Week'] = df['Date'].dt.dayofweek"
   ]
  },
  {
   "cell_type": "code",
   "execution_count": 16,
   "metadata": {},
   "outputs": [
    {
     "data": {
      "text/html": [
       "<div>\n",
       "<style scoped>\n",
       "    .dataframe tbody tr th:only-of-type {\n",
       "        vertical-align: middle;\n",
       "    }\n",
       "\n",
       "    .dataframe tbody tr th {\n",
       "        vertical-align: top;\n",
       "    }\n",
       "\n",
       "    .dataframe thead th {\n",
       "        text-align: right;\n",
       "    }\n",
       "</style>\n",
       "<table border=\"1\" class=\"dataframe\">\n",
       "  <thead>\n",
       "    <tr style=\"text-align: right;\">\n",
       "      <th></th>\n",
       "      <th>Store_ID</th>\n",
       "      <th>Date</th>\n",
       "      <th>Basket_ID</th>\n",
       "      <th>Structure_ID</th>\n",
       "      <th>Article_ID</th>\n",
       "      <th>Quantity</th>\n",
       "      <th>Amount_Paid</th>\n",
       "      <th>Cust_ID</th>\n",
       "      <th>Year</th>\n",
       "      <th>Month</th>\n",
       "      <th>Week</th>\n",
       "      <th>Day of Week</th>\n",
       "    </tr>\n",
       "  </thead>\n",
       "  <tbody>\n",
       "    <tr>\n",
       "      <th>0</th>\n",
       "      <td>91</td>\n",
       "      <td>2017-01-01</td>\n",
       "      <td>91010227</td>\n",
       "      <td>2512384190301</td>\n",
       "      <td>392900030.0</td>\n",
       "      <td>1.0</td>\n",
       "      <td>1.390</td>\n",
       "      <td>18579</td>\n",
       "      <td>2017</td>\n",
       "      <td>1</td>\n",
       "      <td>52</td>\n",
       "      <td>6</td>\n",
       "    </tr>\n",
       "    <tr>\n",
       "      <th>1</th>\n",
       "      <td>91</td>\n",
       "      <td>2017-01-01</td>\n",
       "      <td>91010227</td>\n",
       "      <td>2544340090301</td>\n",
       "      <td>396900550.0</td>\n",
       "      <td>1.0</td>\n",
       "      <td>2.500</td>\n",
       "      <td>18579</td>\n",
       "      <td>2017</td>\n",
       "      <td>1</td>\n",
       "      <td>52</td>\n",
       "      <td>6</td>\n",
       "    </tr>\n",
       "    <tr>\n",
       "      <th>2</th>\n",
       "      <td>91</td>\n",
       "      <td>2017-01-01</td>\n",
       "      <td>91010227</td>\n",
       "      <td>2866718070977</td>\n",
       "      <td>25000135.0</td>\n",
       "      <td>1.0</td>\n",
       "      <td>2.600</td>\n",
       "      <td>18579</td>\n",
       "      <td>2017</td>\n",
       "      <td>1</td>\n",
       "      <td>52</td>\n",
       "      <td>6</td>\n",
       "    </tr>\n",
       "    <tr>\n",
       "      <th>3</th>\n",
       "      <td>91</td>\n",
       "      <td>2017-01-01</td>\n",
       "      <td>91010227</td>\n",
       "      <td>2866718070977</td>\n",
       "      <td>25000145.0</td>\n",
       "      <td>1.0</td>\n",
       "      <td>2.450</td>\n",
       "      <td>18579</td>\n",
       "      <td>2017</td>\n",
       "      <td>1</td>\n",
       "      <td>52</td>\n",
       "      <td>6</td>\n",
       "    </tr>\n",
       "    <tr>\n",
       "      <th>4</th>\n",
       "      <td>91</td>\n",
       "      <td>2017-01-01</td>\n",
       "      <td>91010227</td>\n",
       "      <td>2866718071177</td>\n",
       "      <td>24400444.0</td>\n",
       "      <td>2.0</td>\n",
       "      <td>5.380</td>\n",
       "      <td>18579</td>\n",
       "      <td>2017</td>\n",
       "      <td>1</td>\n",
       "      <td>52</td>\n",
       "      <td>6</td>\n",
       "    </tr>\n",
       "    <tr>\n",
       "      <th>...</th>\n",
       "      <td>...</td>\n",
       "      <td>...</td>\n",
       "      <td>...</td>\n",
       "      <td>...</td>\n",
       "      <td>...</td>\n",
       "      <td>...</td>\n",
       "      <td>...</td>\n",
       "      <td>...</td>\n",
       "      <td>...</td>\n",
       "      <td>...</td>\n",
       "      <td>...</td>\n",
       "      <td>...</td>\n",
       "    </tr>\n",
       "    <tr>\n",
       "      <th>1960989</th>\n",
       "      <td>91</td>\n",
       "      <td>2018-12-31</td>\n",
       "      <td>91648594</td>\n",
       "      <td>2865438133779</td>\n",
       "      <td>71032374.0</td>\n",
       "      <td>2.0</td>\n",
       "      <td>9.091</td>\n",
       "      <td>796985</td>\n",
       "      <td>2018</td>\n",
       "      <td>12</td>\n",
       "      <td>1</td>\n",
       "      <td>0</td>\n",
       "    </tr>\n",
       "    <tr>\n",
       "      <th>1960990</th>\n",
       "      <td>91</td>\n",
       "      <td>2018-12-31</td>\n",
       "      <td>91648594</td>\n",
       "      <td>2866480013777</td>\n",
       "      <td>70633122.0</td>\n",
       "      <td>1.0</td>\n",
       "      <td>1.818</td>\n",
       "      <td>796985</td>\n",
       "      <td>2018</td>\n",
       "      <td>12</td>\n",
       "      <td>1</td>\n",
       "      <td>0</td>\n",
       "    </tr>\n",
       "    <tr>\n",
       "      <th>1960991</th>\n",
       "      <td>91</td>\n",
       "      <td>2018-12-31</td>\n",
       "      <td>91648594</td>\n",
       "      <td>2866480037979</td>\n",
       "      <td>70632850.0</td>\n",
       "      <td>2.0</td>\n",
       "      <td>3.636</td>\n",
       "      <td>796985</td>\n",
       "      <td>2018</td>\n",
       "      <td>12</td>\n",
       "      <td>1</td>\n",
       "      <td>0</td>\n",
       "    </tr>\n",
       "    <tr>\n",
       "      <th>1960992</th>\n",
       "      <td>91</td>\n",
       "      <td>2018-12-31</td>\n",
       "      <td>91648594</td>\n",
       "      <td>2866480037979</td>\n",
       "      <td>70730410.0</td>\n",
       "      <td>1.0</td>\n",
       "      <td>1.818</td>\n",
       "      <td>796985</td>\n",
       "      <td>2018</td>\n",
       "      <td>12</td>\n",
       "      <td>1</td>\n",
       "      <td>0</td>\n",
       "    </tr>\n",
       "    <tr>\n",
       "      <th>1960993</th>\n",
       "      <td>91</td>\n",
       "      <td>2018-12-31</td>\n",
       "      <td>91648594</td>\n",
       "      <td>2866480037979</td>\n",
       "      <td>70730412.0</td>\n",
       "      <td>1.0</td>\n",
       "      <td>1.818</td>\n",
       "      <td>796985</td>\n",
       "      <td>2018</td>\n",
       "      <td>12</td>\n",
       "      <td>1</td>\n",
       "      <td>0</td>\n",
       "    </tr>\n",
       "  </tbody>\n",
       "</table>\n",
       "<p>3921694 rows × 12 columns</p>\n",
       "</div>"
      ],
      "text/plain": [
       "         Store_ID       Date  Basket_ID   Structure_ID   Article_ID  Quantity  \\\n",
       "0              91 2017-01-01   91010227  2512384190301  392900030.0       1.0   \n",
       "1              91 2017-01-01   91010227  2544340090301  396900550.0       1.0   \n",
       "2              91 2017-01-01   91010227  2866718070977   25000135.0       1.0   \n",
       "3              91 2017-01-01   91010227  2866718070977   25000145.0       1.0   \n",
       "4              91 2017-01-01   91010227  2866718071177   24400444.0       2.0   \n",
       "...           ...        ...        ...            ...          ...       ...   \n",
       "1960989        91 2018-12-31   91648594  2865438133779   71032374.0       2.0   \n",
       "1960990        91 2018-12-31   91648594  2866480013777   70633122.0       1.0   \n",
       "1960991        91 2018-12-31   91648594  2866480037979   70632850.0       2.0   \n",
       "1960992        91 2018-12-31   91648594  2866480037979   70730410.0       1.0   \n",
       "1960993        91 2018-12-31   91648594  2866480037979   70730412.0       1.0   \n",
       "\n",
       "         Amount_Paid  Cust_ID  Year  Month  Week  Day of Week  \n",
       "0              1.390    18579  2017      1    52            6  \n",
       "1              2.500    18579  2017      1    52            6  \n",
       "2              2.600    18579  2017      1    52            6  \n",
       "3              2.450    18579  2017      1    52            6  \n",
       "4              5.380    18579  2017      1    52            6  \n",
       "...              ...      ...   ...    ...   ...          ...  \n",
       "1960989        9.091   796985  2018     12     1            0  \n",
       "1960990        1.818   796985  2018     12     1            0  \n",
       "1960991        3.636   796985  2018     12     1            0  \n",
       "1960992        1.818   796985  2018     12     1            0  \n",
       "1960993        1.818   796985  2018     12     1            0  \n",
       "\n",
       "[3921694 rows x 12 columns]"
      ]
     },
     "execution_count": 16,
     "metadata": {},
     "output_type": "execute_result"
    }
   ],
   "source": [
    "df"
   ]
  },
  {
   "cell_type": "markdown",
   "metadata": {},
   "source": [
    "## EDA -Feature Engineering"
   ]
  },
  {
   "cell_type": "code",
   "execution_count": 16,
   "metadata": {},
   "outputs": [],
   "source": [
    "dayofweek_mapping = dict({0: \"Monday\", \n",
    "                         1: \"Tuesday\", \n",
    "                         2: \"Wednesday\" , \n",
    "                         3: \"Thursday\", \n",
    "                         4: \"Friday\", \n",
    "                         5: \"Saturday\", \n",
    "                         6: \"Sunday\"})\n",
    "df[\"Day of Week\"] = df[\"Day of Week\"].map(dayofweek_mapping)"
   ]
  },
  {
   "cell_type": "code",
   "execution_count": 18,
   "metadata": {},
   "outputs": [
    {
     "data": {
      "text/html": [
       "<div>\n",
       "<style scoped>\n",
       "    .dataframe tbody tr th:only-of-type {\n",
       "        vertical-align: middle;\n",
       "    }\n",
       "\n",
       "    .dataframe tbody tr th {\n",
       "        vertical-align: top;\n",
       "    }\n",
       "\n",
       "    .dataframe thead th {\n",
       "        text-align: right;\n",
       "    }\n",
       "</style>\n",
       "<table border=\"1\" class=\"dataframe\">\n",
       "  <thead>\n",
       "    <tr style=\"text-align: right;\">\n",
       "      <th></th>\n",
       "      <th>Store_ID</th>\n",
       "      <th>Date</th>\n",
       "      <th>Basket_ID</th>\n",
       "      <th>Structure_ID</th>\n",
       "      <th>Article_ID</th>\n",
       "      <th>Quantity</th>\n",
       "      <th>Amount_Paid</th>\n",
       "      <th>Cust_ID</th>\n",
       "      <th>Year</th>\n",
       "      <th>Month</th>\n",
       "      <th>Week</th>\n",
       "      <th>Day of Week</th>\n",
       "    </tr>\n",
       "  </thead>\n",
       "  <tbody>\n",
       "    <tr>\n",
       "      <th>0</th>\n",
       "      <td>91</td>\n",
       "      <td>2017-01-01</td>\n",
       "      <td>91010227</td>\n",
       "      <td>2512384190301</td>\n",
       "      <td>392900030.0</td>\n",
       "      <td>1.0</td>\n",
       "      <td>1.390</td>\n",
       "      <td>18579</td>\n",
       "      <td>2017</td>\n",
       "      <td>1</td>\n",
       "      <td>52</td>\n",
       "      <td>Sunday</td>\n",
       "    </tr>\n",
       "    <tr>\n",
       "      <th>1</th>\n",
       "      <td>91</td>\n",
       "      <td>2017-01-01</td>\n",
       "      <td>91010227</td>\n",
       "      <td>2544340090301</td>\n",
       "      <td>396900550.0</td>\n",
       "      <td>1.0</td>\n",
       "      <td>2.500</td>\n",
       "      <td>18579</td>\n",
       "      <td>2017</td>\n",
       "      <td>1</td>\n",
       "      <td>52</td>\n",
       "      <td>Sunday</td>\n",
       "    </tr>\n",
       "    <tr>\n",
       "      <th>2</th>\n",
       "      <td>91</td>\n",
       "      <td>2017-01-01</td>\n",
       "      <td>91010227</td>\n",
       "      <td>2866718070977</td>\n",
       "      <td>25000135.0</td>\n",
       "      <td>1.0</td>\n",
       "      <td>2.600</td>\n",
       "      <td>18579</td>\n",
       "      <td>2017</td>\n",
       "      <td>1</td>\n",
       "      <td>52</td>\n",
       "      <td>Sunday</td>\n",
       "    </tr>\n",
       "    <tr>\n",
       "      <th>3</th>\n",
       "      <td>91</td>\n",
       "      <td>2017-01-01</td>\n",
       "      <td>91010227</td>\n",
       "      <td>2866718070977</td>\n",
       "      <td>25000145.0</td>\n",
       "      <td>1.0</td>\n",
       "      <td>2.450</td>\n",
       "      <td>18579</td>\n",
       "      <td>2017</td>\n",
       "      <td>1</td>\n",
       "      <td>52</td>\n",
       "      <td>Sunday</td>\n",
       "    </tr>\n",
       "    <tr>\n",
       "      <th>4</th>\n",
       "      <td>91</td>\n",
       "      <td>2017-01-01</td>\n",
       "      <td>91010227</td>\n",
       "      <td>2866718071177</td>\n",
       "      <td>24400444.0</td>\n",
       "      <td>2.0</td>\n",
       "      <td>5.380</td>\n",
       "      <td>18579</td>\n",
       "      <td>2017</td>\n",
       "      <td>1</td>\n",
       "      <td>52</td>\n",
       "      <td>Sunday</td>\n",
       "    </tr>\n",
       "    <tr>\n",
       "      <th>...</th>\n",
       "      <td>...</td>\n",
       "      <td>...</td>\n",
       "      <td>...</td>\n",
       "      <td>...</td>\n",
       "      <td>...</td>\n",
       "      <td>...</td>\n",
       "      <td>...</td>\n",
       "      <td>...</td>\n",
       "      <td>...</td>\n",
       "      <td>...</td>\n",
       "      <td>...</td>\n",
       "      <td>...</td>\n",
       "    </tr>\n",
       "    <tr>\n",
       "      <th>1960989</th>\n",
       "      <td>91</td>\n",
       "      <td>2018-12-31</td>\n",
       "      <td>91648594</td>\n",
       "      <td>2865438133779</td>\n",
       "      <td>71032374.0</td>\n",
       "      <td>2.0</td>\n",
       "      <td>9.091</td>\n",
       "      <td>796985</td>\n",
       "      <td>2018</td>\n",
       "      <td>12</td>\n",
       "      <td>1</td>\n",
       "      <td>Monday</td>\n",
       "    </tr>\n",
       "    <tr>\n",
       "      <th>1960990</th>\n",
       "      <td>91</td>\n",
       "      <td>2018-12-31</td>\n",
       "      <td>91648594</td>\n",
       "      <td>2866480013777</td>\n",
       "      <td>70633122.0</td>\n",
       "      <td>1.0</td>\n",
       "      <td>1.818</td>\n",
       "      <td>796985</td>\n",
       "      <td>2018</td>\n",
       "      <td>12</td>\n",
       "      <td>1</td>\n",
       "      <td>Monday</td>\n",
       "    </tr>\n",
       "    <tr>\n",
       "      <th>1960991</th>\n",
       "      <td>91</td>\n",
       "      <td>2018-12-31</td>\n",
       "      <td>91648594</td>\n",
       "      <td>2866480037979</td>\n",
       "      <td>70632850.0</td>\n",
       "      <td>2.0</td>\n",
       "      <td>3.636</td>\n",
       "      <td>796985</td>\n",
       "      <td>2018</td>\n",
       "      <td>12</td>\n",
       "      <td>1</td>\n",
       "      <td>Monday</td>\n",
       "    </tr>\n",
       "    <tr>\n",
       "      <th>1960992</th>\n",
       "      <td>91</td>\n",
       "      <td>2018-12-31</td>\n",
       "      <td>91648594</td>\n",
       "      <td>2866480037979</td>\n",
       "      <td>70730410.0</td>\n",
       "      <td>1.0</td>\n",
       "      <td>1.818</td>\n",
       "      <td>796985</td>\n",
       "      <td>2018</td>\n",
       "      <td>12</td>\n",
       "      <td>1</td>\n",
       "      <td>Monday</td>\n",
       "    </tr>\n",
       "    <tr>\n",
       "      <th>1960993</th>\n",
       "      <td>91</td>\n",
       "      <td>2018-12-31</td>\n",
       "      <td>91648594</td>\n",
       "      <td>2866480037979</td>\n",
       "      <td>70730412.0</td>\n",
       "      <td>1.0</td>\n",
       "      <td>1.818</td>\n",
       "      <td>796985</td>\n",
       "      <td>2018</td>\n",
       "      <td>12</td>\n",
       "      <td>1</td>\n",
       "      <td>Monday</td>\n",
       "    </tr>\n",
       "  </tbody>\n",
       "</table>\n",
       "<p>3921694 rows × 12 columns</p>\n",
       "</div>"
      ],
      "text/plain": [
       "         Store_ID       Date  Basket_ID   Structure_ID   Article_ID  Quantity  \\\n",
       "0              91 2017-01-01   91010227  2512384190301  392900030.0       1.0   \n",
       "1              91 2017-01-01   91010227  2544340090301  396900550.0       1.0   \n",
       "2              91 2017-01-01   91010227  2866718070977   25000135.0       1.0   \n",
       "3              91 2017-01-01   91010227  2866718070977   25000145.0       1.0   \n",
       "4              91 2017-01-01   91010227  2866718071177   24400444.0       2.0   \n",
       "...           ...        ...        ...            ...          ...       ...   \n",
       "1960989        91 2018-12-31   91648594  2865438133779   71032374.0       2.0   \n",
       "1960990        91 2018-12-31   91648594  2866480013777   70633122.0       1.0   \n",
       "1960991        91 2018-12-31   91648594  2866480037979   70632850.0       2.0   \n",
       "1960992        91 2018-12-31   91648594  2866480037979   70730410.0       1.0   \n",
       "1960993        91 2018-12-31   91648594  2866480037979   70730412.0       1.0   \n",
       "\n",
       "         Amount_Paid  Cust_ID  Year  Month  Week Day of Week  \n",
       "0              1.390    18579  2017      1    52      Sunday  \n",
       "1              2.500    18579  2017      1    52      Sunday  \n",
       "2              2.600    18579  2017      1    52      Sunday  \n",
       "3              2.450    18579  2017      1    52      Sunday  \n",
       "4              5.380    18579  2017      1    52      Sunday  \n",
       "...              ...      ...   ...    ...   ...         ...  \n",
       "1960989        9.091   796985  2018     12     1      Monday  \n",
       "1960990        1.818   796985  2018     12     1      Monday  \n",
       "1960991        3.636   796985  2018     12     1      Monday  \n",
       "1960992        1.818   796985  2018     12     1      Monday  \n",
       "1960993        1.818   796985  2018     12     1      Monday  \n",
       "\n",
       "[3921694 rows x 12 columns]"
      ]
     },
     "execution_count": 18,
     "metadata": {},
     "output_type": "execute_result"
    }
   ],
   "source": [
    "df"
   ]
  },
  {
   "cell_type": "markdown",
   "metadata": {},
   "source": [
    "then see transactions by month, year, day of the week .."
   ]
  },
  {
   "cell_type": "code",
   "execution_count": 17,
   "metadata": {},
   "outputs": [
    {
     "data": {
      "image/png": "[encoded data removed]",
      "text/plain": [
       "<Figure size 1152x864 with 3 Axes>"
      ]
     },
     "metadata": {
      "needs_background": "light"
     },
     "output_type": "display_data"
    }
   ],
   "source": [
    "plt.figure(figsize=(16,12))\n",
    "plt.subplot(3,2,1)\n",
    "sns.lineplot(x = \"Month\", y = \"Amount_Paid\", data = df.groupby(\"Month\").sum(\"Amount_Paid\"), marker = \"o\", color = \"lightseagreen\")\n",
    "plt.axvline(11, color = \"k\", linestyle = '--', alpha = 0.3)\n",
    "#plt.text(4.50, 1.3e4, \"Most Transactions\")\n",
    "plt.title(\"Total sales by Month\")\n",
    "plt.subplot(3,2,2)\n",
    "df.groupby(\"Year\").sum()[\"Amount_Paid\"].plot(kind = \"bar\")\n",
    "plt.title(\"Total sales by Year\")\n",
    "plt.subplot(3,2,4)\n",
    "df.groupby(\"Day of Week\").sum()[\"Amount_Paid\"].plot(kind = \"bar\", color = \"darkorange\")\n",
    "plt.title(\"Total sales by Day of Week\")\n",
    "plt.tight_layout()\n",
    "plt.show()"
   ]
  },
  {
   "cell_type": "code",
   "execution_count": null,
   "metadata": {},
   "outputs": [],
   "source": []
  },
  {
   "cell_type": "markdown",
   "metadata": {},
   "source": [
    " ### Plots Analysis \n",
    " \n",
    " - Total sales per Day of Week: most sales happen on the weekends ( saturday and sunday )  and it's practically the same on the other days \n",
    " - Total Sales by Year : 2018 is more profitable than 2017\n",
    " - Total Sales per Month : in summer (  July 7 ) there is a significant decline in sales than in other months, i wonder why is that !\n",
    " Also, most of the sales happened in May and December"
   ]
  },
  {
   "cell_type": "markdown",
   "metadata": {},
   "source": [
    "1. INSIGHT ON PRODUCTS AND CUSTOMERS "
   ]
  },
  {
   "cell_type": "markdown",
   "metadata": {},
   "source": [
    "* Let's see which articles are the most popular among users "
   ]
  },
  {
   "cell_type": "code",
   "execution_count": 18,
   "metadata": {},
   "outputs": [
    {
     "data": {
      "text/html": [
       "<div>\n",
       "<style scoped>\n",
       "    .dataframe tbody tr th:only-of-type {\n",
       "        vertical-align: middle;\n",
       "    }\n",
       "\n",
       "    .dataframe tbody tr th {\n",
       "        vertical-align: top;\n",
       "    }\n",
       "\n",
       "    .dataframe thead th {\n",
       "        text-align: right;\n",
       "    }\n",
       "</style>\n",
       "<table border=\"1\" class=\"dataframe\">\n",
       "  <thead>\n",
       "    <tr style=\"text-align: right;\">\n",
       "      <th></th>\n",
       "      <th>Article_ID</th>\n",
       "      <th>total_customers</th>\n",
       "    </tr>\n",
       "  </thead>\n",
       "  <tbody>\n",
       "    <tr>\n",
       "      <th>32693</th>\n",
       "      <td>556800290.0</td>\n",
       "      <td>8813</td>\n",
       "    </tr>\n",
       "    <tr>\n",
       "      <th>40452</th>\n",
       "      <td>848600100.0</td>\n",
       "      <td>7957</td>\n",
       "    </tr>\n",
       "    <tr>\n",
       "      <th>38165</th>\n",
       "      <td>715180033.0</td>\n",
       "      <td>7021</td>\n",
       "    </tr>\n",
       "    <tr>\n",
       "      <th>39943</th>\n",
       "      <td>842000200.0</td>\n",
       "      <td>6774</td>\n",
       "    </tr>\n",
       "    <tr>\n",
       "      <th>39868</th>\n",
       "      <td>841100500.0</td>\n",
       "      <td>6697</td>\n",
       "    </tr>\n",
       "    <tr>\n",
       "      <th>37588</th>\n",
       "      <td>681001489.0</td>\n",
       "      <td>6276</td>\n",
       "    </tr>\n",
       "    <tr>\n",
       "      <th>39899</th>\n",
       "      <td>841300130.0</td>\n",
       "      <td>6172</td>\n",
       "    </tr>\n",
       "    <tr>\n",
       "      <th>36998</th>\n",
       "      <td>660080207.0</td>\n",
       "      <td>5897</td>\n",
       "    </tr>\n",
       "    <tr>\n",
       "      <th>39924</th>\n",
       "      <td>841450900.0</td>\n",
       "      <td>5728</td>\n",
       "    </tr>\n",
       "    <tr>\n",
       "      <th>39875</th>\n",
       "      <td>841101100.0</td>\n",
       "      <td>5526</td>\n",
       "    </tr>\n",
       "  </tbody>\n",
       "</table>\n",
       "</div>"
      ],
      "text/plain": [
       "        Article_ID  total_customers\n",
       "32693  556800290.0             8813\n",
       "40452  848600100.0             7957\n",
       "38165  715180033.0             7021\n",
       "39943  842000200.0             6774\n",
       "39868  841100500.0             6697\n",
       "37588  681001489.0             6276\n",
       "39899  841300130.0             6172\n",
       "36998  660080207.0             5897\n",
       "39924  841450900.0             5728\n",
       "39875  841101100.0             5526"
      ]
     },
     "execution_count": 18,
     "metadata": {},
     "output_type": "execute_result"
    }
   ],
   "source": [
    "\n",
    "product_unique_users = df.groupby('Article_ID')['Cust_ID'].nunique().reset_index().rename(columns={'Cust_ID':'total_customers'})\n",
    "product_unique_users.sort_values('total_customers', ascending = False).head(10)"
   ]
  },
  {
   "cell_type": "markdown",
   "metadata": {},
   "source": [
    "Article with the id = 556800290 is the most popular one among customers ( 8813 customers have purchased it ) "
   ]
  },
  {
   "cell_type": "code",
   "execution_count": 21,
   "metadata": {},
   "outputs": [
    {
     "data": {
      "text/html": [
       "<div>\n",
       "<style scoped>\n",
       "    .dataframe tbody tr th:only-of-type {\n",
       "        vertical-align: middle;\n",
       "    }\n",
       "\n",
       "    .dataframe tbody tr th {\n",
       "        vertical-align: top;\n",
       "    }\n",
       "\n",
       "    .dataframe thead th {\n",
       "        text-align: right;\n",
       "    }\n",
       "</style>\n",
       "<table border=\"1\" class=\"dataframe\">\n",
       "  <thead>\n",
       "    <tr style=\"text-align: right;\">\n",
       "      <th></th>\n",
       "      <th>Article_ID</th>\n",
       "      <th>total_users</th>\n",
       "      <th>cum_users</th>\n",
       "    </tr>\n",
       "  </thead>\n",
       "  <tbody>\n",
       "    <tr>\n",
       "      <th>0</th>\n",
       "      <td>556800290.0</td>\n",
       "      <td>8813</td>\n",
       "      <td>8813</td>\n",
       "    </tr>\n",
       "    <tr>\n",
       "      <th>1</th>\n",
       "      <td>848600100.0</td>\n",
       "      <td>7957</td>\n",
       "      <td>16770</td>\n",
       "    </tr>\n",
       "    <tr>\n",
       "      <th>2</th>\n",
       "      <td>715180033.0</td>\n",
       "      <td>7021</td>\n",
       "      <td>23791</td>\n",
       "    </tr>\n",
       "    <tr>\n",
       "      <th>3</th>\n",
       "      <td>842000200.0</td>\n",
       "      <td>6774</td>\n",
       "      <td>30565</td>\n",
       "    </tr>\n",
       "    <tr>\n",
       "      <th>4</th>\n",
       "      <td>841100500.0</td>\n",
       "      <td>6697</td>\n",
       "      <td>37262</td>\n",
       "    </tr>\n",
       "  </tbody>\n",
       "</table>\n",
       "</div>"
      ],
      "text/plain": [
       "    Article_ID  total_users  cum_users\n",
       "0  556800290.0         8813       8813\n",
       "1  848600100.0         7957      16770\n",
       "2  715180033.0         7021      23791\n",
       "3  842000200.0         6774      30565\n",
       "4  841100500.0         6697      37262"
      ]
     },
     "execution_count": 21,
     "metadata": {},
     "output_type": "execute_result"
    }
   ],
   "source": [
    "# cumulative sum of unique users (customers) per product \n",
    "\n",
    "dfcum = product_unique_users.sort_values(\"total_customers\", ascending=False)\n",
    "dfcum['cum_customers'] = dfcum['total_customers'].cumsum()\n",
    "dfcum = dfcum.reset_index(drop=True)\n",
    "dfcum.head()"
   ]
  },
  {
   "cell_type": "code",
   "execution_count": 22,
   "metadata": {
    "scrolled": true
   },
   "outputs": [
    {
     "data": {
      "image/png": "[encoded data removed]",
      "text/plain": [
       "<Figure size 1080x576 with 1 Axes>"
      ]
     },
     "metadata": {
      "needs_background": "light"
     },
     "output_type": "display_data"
    }
   ],
   "source": [
    "fig, ax = plt.subplots(figsize=(15,8))\n",
    "ax = sns.lineplot(x = dfcum.index, y=dfcum.cum_users)\n",
    "ax.set_xlabel(\"Products\", size = 9)\n",
    "ax.set_ylabel(\"Cumulative Sum of Unique customers\", size = 9)\n",
    "ax.set_title(\"Cumulative Sum of Unique customers Per Product\", size = 12)\n",
    "plt.show()"
   ]
  },
  {
   "cell_type": "markdown",
   "metadata": {},
   "source": [
    "* Which 'rayons' , 'groups' are the most popular among customers "
   ]
  },
  {
   "cell_type": "code",
   "execution_count": 23,
   "metadata": {},
   "outputs": [],
   "source": [
    "##############################################TO DEVELOP#######################"
   ]
  },
  {
   "cell_type": "markdown",
   "metadata": {},
   "source": [
    "* Frequency of total visits/purchases per customer"
   ]
  },
  {
   "cell_type": "code",
   "execution_count": 19,
   "metadata": {},
   "outputs": [
    {
     "data": {
      "text/html": [
       "<div>\n",
       "<style scoped>\n",
       "    .dataframe tbody tr th:only-of-type {\n",
       "        vertical-align: middle;\n",
       "    }\n",
       "\n",
       "    .dataframe tbody tr th {\n",
       "        vertical-align: top;\n",
       "    }\n",
       "\n",
       "    .dataframe thead th {\n",
       "        text-align: right;\n",
       "    }\n",
       "</style>\n",
       "<table border=\"1\" class=\"dataframe\">\n",
       "  <thead>\n",
       "    <tr style=\"text-align: right;\">\n",
       "      <th></th>\n",
       "      <th>Store_ID</th>\n",
       "      <th>Date</th>\n",
       "      <th>Basket_ID</th>\n",
       "      <th>Structure_ID</th>\n",
       "      <th>Article_ID</th>\n",
       "      <th>Quantity</th>\n",
       "      <th>Amount_Paid</th>\n",
       "      <th>Cust_ID</th>\n",
       "      <th>Year</th>\n",
       "      <th>Month</th>\n",
       "      <th>Week</th>\n",
       "      <th>Day of Week</th>\n",
       "    </tr>\n",
       "  </thead>\n",
       "  <tbody>\n",
       "    <tr>\n",
       "      <th>0</th>\n",
       "      <td>91</td>\n",
       "      <td>2017-01-01</td>\n",
       "      <td>91010227</td>\n",
       "      <td>2512384190301</td>\n",
       "      <td>392900030.0</td>\n",
       "      <td>1.0</td>\n",
       "      <td>1.390</td>\n",
       "      <td>18579</td>\n",
       "      <td>2017</td>\n",
       "      <td>1</td>\n",
       "      <td>52</td>\n",
       "      <td>Sunday</td>\n",
       "    </tr>\n",
       "    <tr>\n",
       "      <th>1</th>\n",
       "      <td>91</td>\n",
       "      <td>2017-01-01</td>\n",
       "      <td>91010227</td>\n",
       "      <td>2544340090301</td>\n",
       "      <td>396900550.0</td>\n",
       "      <td>1.0</td>\n",
       "      <td>2.500</td>\n",
       "      <td>18579</td>\n",
       "      <td>2017</td>\n",
       "      <td>1</td>\n",
       "      <td>52</td>\n",
       "      <td>Sunday</td>\n",
       "    </tr>\n",
       "    <tr>\n",
       "      <th>2</th>\n",
       "      <td>91</td>\n",
       "      <td>2017-01-01</td>\n",
       "      <td>91010227</td>\n",
       "      <td>2866718070977</td>\n",
       "      <td>25000135.0</td>\n",
       "      <td>1.0</td>\n",
       "      <td>2.600</td>\n",
       "      <td>18579</td>\n",
       "      <td>2017</td>\n",
       "      <td>1</td>\n",
       "      <td>52</td>\n",
       "      <td>Sunday</td>\n",
       "    </tr>\n",
       "    <tr>\n",
       "      <th>3</th>\n",
       "      <td>91</td>\n",
       "      <td>2017-01-01</td>\n",
       "      <td>91010227</td>\n",
       "      <td>2866718070977</td>\n",
       "      <td>25000145.0</td>\n",
       "      <td>1.0</td>\n",
       "      <td>2.450</td>\n",
       "      <td>18579</td>\n",
       "      <td>2017</td>\n",
       "      <td>1</td>\n",
       "      <td>52</td>\n",
       "      <td>Sunday</td>\n",
       "    </tr>\n",
       "    <tr>\n",
       "      <th>4</th>\n",
       "      <td>91</td>\n",
       "      <td>2017-01-01</td>\n",
       "      <td>91010227</td>\n",
       "      <td>2866718071177</td>\n",
       "      <td>24400444.0</td>\n",
       "      <td>2.0</td>\n",
       "      <td>5.380</td>\n",
       "      <td>18579</td>\n",
       "      <td>2017</td>\n",
       "      <td>1</td>\n",
       "      <td>52</td>\n",
       "      <td>Sunday</td>\n",
       "    </tr>\n",
       "    <tr>\n",
       "      <th>...</th>\n",
       "      <td>...</td>\n",
       "      <td>...</td>\n",
       "      <td>...</td>\n",
       "      <td>...</td>\n",
       "      <td>...</td>\n",
       "      <td>...</td>\n",
       "      <td>...</td>\n",
       "      <td>...</td>\n",
       "      <td>...</td>\n",
       "      <td>...</td>\n",
       "      <td>...</td>\n",
       "      <td>...</td>\n",
       "    </tr>\n",
       "    <tr>\n",
       "      <th>1960989</th>\n",
       "      <td>91</td>\n",
       "      <td>2018-12-31</td>\n",
       "      <td>91648594</td>\n",
       "      <td>2865438133779</td>\n",
       "      <td>71032374.0</td>\n",
       "      <td>2.0</td>\n",
       "      <td>9.091</td>\n",
       "      <td>796985</td>\n",
       "      <td>2018</td>\n",
       "      <td>12</td>\n",
       "      <td>1</td>\n",
       "      <td>Monday</td>\n",
       "    </tr>\n",
       "    <tr>\n",
       "      <th>1960990</th>\n",
       "      <td>91</td>\n",
       "      <td>2018-12-31</td>\n",
       "      <td>91648594</td>\n",
       "      <td>2866480013777</td>\n",
       "      <td>70633122.0</td>\n",
       "      <td>1.0</td>\n",
       "      <td>1.818</td>\n",
       "      <td>796985</td>\n",
       "      <td>2018</td>\n",
       "      <td>12</td>\n",
       "      <td>1</td>\n",
       "      <td>Monday</td>\n",
       "    </tr>\n",
       "    <tr>\n",
       "      <th>1960991</th>\n",
       "      <td>91</td>\n",
       "      <td>2018-12-31</td>\n",
       "      <td>91648594</td>\n",
       "      <td>2866480037979</td>\n",
       "      <td>70632850.0</td>\n",
       "      <td>2.0</td>\n",
       "      <td>3.636</td>\n",
       "      <td>796985</td>\n",
       "      <td>2018</td>\n",
       "      <td>12</td>\n",
       "      <td>1</td>\n",
       "      <td>Monday</td>\n",
       "    </tr>\n",
       "    <tr>\n",
       "      <th>1960992</th>\n",
       "      <td>91</td>\n",
       "      <td>2018-12-31</td>\n",
       "      <td>91648594</td>\n",
       "      <td>2866480037979</td>\n",
       "      <td>70730410.0</td>\n",
       "      <td>1.0</td>\n",
       "      <td>1.818</td>\n",
       "      <td>796985</td>\n",
       "      <td>2018</td>\n",
       "      <td>12</td>\n",
       "      <td>1</td>\n",
       "      <td>Monday</td>\n",
       "    </tr>\n",
       "    <tr>\n",
       "      <th>1960993</th>\n",
       "      <td>91</td>\n",
       "      <td>2018-12-31</td>\n",
       "      <td>91648594</td>\n",
       "      <td>2866480037979</td>\n",
       "      <td>70730412.0</td>\n",
       "      <td>1.0</td>\n",
       "      <td>1.818</td>\n",
       "      <td>796985</td>\n",
       "      <td>2018</td>\n",
       "      <td>12</td>\n",
       "      <td>1</td>\n",
       "      <td>Monday</td>\n",
       "    </tr>\n",
       "  </tbody>\n",
       "</table>\n",
       "<p>3921694 rows × 12 columns</p>\n",
       "</div>"
      ],
      "text/plain": [
       "         Store_ID       Date  Basket_ID   Structure_ID   Article_ID  Quantity  \\\n",
       "0              91 2017-01-01   91010227  2512384190301  392900030.0       1.0   \n",
       "1              91 2017-01-01   91010227  2544340090301  396900550.0       1.0   \n",
       "2              91 2017-01-01   91010227  2866718070977   25000135.0       1.0   \n",
       "3              91 2017-01-01   91010227  2866718070977   25000145.0       1.0   \n",
       "4              91 2017-01-01   91010227  2866718071177   24400444.0       2.0   \n",
       "...           ...        ...        ...            ...          ...       ...   \n",
       "1960989        91 2018-12-31   91648594  2865438133779   71032374.0       2.0   \n",
       "1960990        91 2018-12-31   91648594  2866480013777   70633122.0       1.0   \n",
       "1960991        91 2018-12-31   91648594  2866480037979   70632850.0       2.0   \n",
       "1960992        91 2018-12-31   91648594  2866480037979   70730410.0       1.0   \n",
       "1960993        91 2018-12-31   91648594  2866480037979   70730412.0       1.0   \n",
       "\n",
       "         Amount_Paid  Cust_ID  Year  Month  Week Day of Week  \n",
       "0              1.390    18579  2017      1    52      Sunday  \n",
       "1              2.500    18579  2017      1    52      Sunday  \n",
       "2              2.600    18579  2017      1    52      Sunday  \n",
       "3              2.450    18579  2017      1    52      Sunday  \n",
       "4              5.380    18579  2017      1    52      Sunday  \n",
       "...              ...      ...   ...    ...   ...         ...  \n",
       "1960989        9.091   796985  2018     12     1      Monday  \n",
       "1960990        1.818   796985  2018     12     1      Monday  \n",
       "1960991        3.636   796985  2018     12     1      Monday  \n",
       "1960992        1.818   796985  2018     12     1      Monday  \n",
       "1960993        1.818   796985  2018     12     1      Monday  \n",
       "\n",
       "[3921694 rows x 12 columns]"
      ]
     },
     "execution_count": 19,
     "metadata": {},
     "output_type": "execute_result"
    }
   ],
   "source": [
    "df"
   ]
  },
  {
   "cell_type": "markdown",
   "metadata": {},
   "source": [
    "## RFM Modeling for customer segmentation"
   ]
  },
  {
   "cell_type": "markdown",
   "metadata": {},
   "source": [
    "Frequency : "
   ]
  },
  {
   "cell_type": "code",
   "execution_count": 20,
   "metadata": {},
   "outputs": [
    {
     "data": {
      "text/html": [
       "<div>\n",
       "<style scoped>\n",
       "    .dataframe tbody tr th:only-of-type {\n",
       "        vertical-align: middle;\n",
       "    }\n",
       "\n",
       "    .dataframe tbody tr th {\n",
       "        vertical-align: top;\n",
       "    }\n",
       "\n",
       "    .dataframe thead th {\n",
       "        text-align: right;\n",
       "    }\n",
       "</style>\n",
       "<table border=\"1\" class=\"dataframe\">\n",
       "  <thead>\n",
       "    <tr style=\"text-align: right;\">\n",
       "      <th></th>\n",
       "      <th>Cust_ID</th>\n",
       "      <th>Frequency</th>\n",
       "    </tr>\n",
       "  </thead>\n",
       "  <tbody>\n",
       "    <tr>\n",
       "      <th>0</th>\n",
       "      <td>8</td>\n",
       "      <td>93</td>\n",
       "    </tr>\n",
       "    <tr>\n",
       "      <th>1</th>\n",
       "      <td>50</td>\n",
       "      <td>234</td>\n",
       "    </tr>\n",
       "    <tr>\n",
       "      <th>2</th>\n",
       "      <td>72</td>\n",
       "      <td>1</td>\n",
       "    </tr>\n",
       "    <tr>\n",
       "      <th>3</th>\n",
       "      <td>91</td>\n",
       "      <td>5</td>\n",
       "    </tr>\n",
       "    <tr>\n",
       "      <th>4</th>\n",
       "      <td>112</td>\n",
       "      <td>1</td>\n",
       "    </tr>\n",
       "  </tbody>\n",
       "</table>\n",
       "</div>"
      ],
      "text/plain": [
       "   Cust_ID  Frequency\n",
       "0        8         93\n",
       "1       50        234\n",
       "2       72          1\n",
       "3       91          5\n",
       "4      112          1"
      ]
     },
     "execution_count": 20,
     "metadata": {},
     "output_type": "execute_result"
    }
   ],
   "source": [
    "#check frequency of customer means how many transaction has been done..\n",
    "\n",
    "frequency_df = df.copy()\n",
    "frequency_df.drop_duplicates(subset=['Cust_ID','Basket_ID'], keep=\"first\", inplace=True) \n",
    "frequency_df = frequency_df.groupby('Cust_ID',as_index=False)['Basket_ID'].count()\n",
    "frequency_df.columns = ['Cust_ID','Frequency']\n",
    "frequency_df.head()"
   ]
  },
  {
   "cell_type": "markdown",
   "metadata": {},
   "source": [
    "Recensy :"
   ]
  },
  {
   "cell_type": "code",
   "execution_count": 21,
   "metadata": {},
   "outputs": [],
   "source": [
    "ref = datetime.strptime('2017-12', '%Y-%m')\n",
    "df['last_purchase'] = df.Date.apply(lambda x: \\\n",
    "                                        relativedelta(ref,x).years*12 + relativedelta(ref,x).months)\n",
    "\n",
    "#since l data teena kolha fi 2017, relativedelta(ref, x).years \"diff between ref and x ,years wise\" gives us 0 \n",
    "\n",
    "Recency = df.groupby('Cust_ID').agg({'last_purchase' : 'min'}).copy().rename(columns= {'Mnths_since_purchase':'Recency'})\n",
    "# recensy: ekher ch'har chré fih ..."
   ]
  },
  {
   "cell_type": "code",
   "execution_count": 22,
   "metadata": {},
   "outputs": [
    {
     "data": {
      "text/html": [
       "<div>\n",
       "<style scoped>\n",
       "    .dataframe tbody tr th:only-of-type {\n",
       "        vertical-align: middle;\n",
       "    }\n",
       "\n",
       "    .dataframe tbody tr th {\n",
       "        vertical-align: top;\n",
       "    }\n",
       "\n",
       "    .dataframe thead th {\n",
       "        text-align: right;\n",
       "    }\n",
       "</style>\n",
       "<table border=\"1\" class=\"dataframe\">\n",
       "  <thead>\n",
       "    <tr style=\"text-align: right;\">\n",
       "      <th></th>\n",
       "      <th>Cust_ID</th>\n",
       "      <th>last_purchase</th>\n",
       "    </tr>\n",
       "  </thead>\n",
       "  <tbody>\n",
       "    <tr>\n",
       "      <th>0</th>\n",
       "      <td>8</td>\n",
       "      <td>2018-12-23</td>\n",
       "    </tr>\n",
       "    <tr>\n",
       "      <th>1</th>\n",
       "      <td>50</td>\n",
       "      <td>2018-12-31</td>\n",
       "    </tr>\n",
       "    <tr>\n",
       "      <th>2</th>\n",
       "      <td>72</td>\n",
       "      <td>2018-12-08</td>\n",
       "    </tr>\n",
       "    <tr>\n",
       "      <th>3</th>\n",
       "      <td>91</td>\n",
       "      <td>2018-12-09</td>\n",
       "    </tr>\n",
       "    <tr>\n",
       "      <th>4</th>\n",
       "      <td>112</td>\n",
       "      <td>2017-06-18</td>\n",
       "    </tr>\n",
       "  </tbody>\n",
       "</table>\n",
       "</div>"
      ],
      "text/plain": [
       "   Cust_ID last_purchase\n",
       "0        8    2018-12-23\n",
       "1       50    2018-12-31\n",
       "2       72    2018-12-08\n",
       "3       91    2018-12-09\n",
       "4      112    2017-06-18"
      ]
     },
     "execution_count": 22,
     "metadata": {},
     "output_type": "execute_result"
    }
   ],
   "source": [
    "#group by customer by last date they purchased...\n",
    "\n",
    "recency_df = df.groupby(['Cust_ID'],as_index=False)['Date'].max()\n",
    "recency_df.columns = ['Cust_ID','last_purchase']\n",
    "recency_df.head()"
   ]
  },
  {
   "cell_type": "code",
   "execution_count": 23,
   "metadata": {},
   "outputs": [],
   "source": [
    "ref = datetime.strptime('2018-12-31', '%Y-%m-%d')"
   ]
  },
  {
   "cell_type": "code",
   "execution_count": 24,
   "metadata": {},
   "outputs": [],
   "source": [
    "recency_df['Recency'] = recency_df.last_purchase.apply(lambda x : (ref - x).days)"
   ]
  },
  {
   "cell_type": "code",
   "execution_count": 25,
   "metadata": {},
   "outputs": [
    {
     "data": {
      "text/html": [
       "<div>\n",
       "<style scoped>\n",
       "    .dataframe tbody tr th:only-of-type {\n",
       "        vertical-align: middle;\n",
       "    }\n",
       "\n",
       "    .dataframe tbody tr th {\n",
       "        vertical-align: top;\n",
       "    }\n",
       "\n",
       "    .dataframe thead th {\n",
       "        text-align: right;\n",
       "    }\n",
       "</style>\n",
       "<table border=\"1\" class=\"dataframe\">\n",
       "  <thead>\n",
       "    <tr style=\"text-align: right;\">\n",
       "      <th></th>\n",
       "      <th>Cust_ID</th>\n",
       "      <th>last_purchase</th>\n",
       "      <th>Recency</th>\n",
       "    </tr>\n",
       "  </thead>\n",
       "  <tbody>\n",
       "    <tr>\n",
       "      <th>0</th>\n",
       "      <td>8</td>\n",
       "      <td>2018-12-23</td>\n",
       "      <td>8</td>\n",
       "    </tr>\n",
       "    <tr>\n",
       "      <th>1</th>\n",
       "      <td>50</td>\n",
       "      <td>2018-12-31</td>\n",
       "      <td>0</td>\n",
       "    </tr>\n",
       "    <tr>\n",
       "      <th>2</th>\n",
       "      <td>72</td>\n",
       "      <td>2018-12-08</td>\n",
       "      <td>23</td>\n",
       "    </tr>\n",
       "    <tr>\n",
       "      <th>3</th>\n",
       "      <td>91</td>\n",
       "      <td>2018-12-09</td>\n",
       "      <td>22</td>\n",
       "    </tr>\n",
       "    <tr>\n",
       "      <th>4</th>\n",
       "      <td>112</td>\n",
       "      <td>2017-06-18</td>\n",
       "      <td>561</td>\n",
       "    </tr>\n",
       "  </tbody>\n",
       "</table>\n",
       "</div>"
      ],
      "text/plain": [
       "   Cust_ID last_purchase  Recency\n",
       "0        8    2018-12-23        8\n",
       "1       50    2018-12-31        0\n",
       "2       72    2018-12-08       23\n",
       "3       91    2018-12-09       22\n",
       "4      112    2017-06-18      561"
      ]
     },
     "execution_count": 25,
     "metadata": {},
     "output_type": "execute_result"
    }
   ],
   "source": [
    "recency_df.head()"
   ]
  },
  {
   "cell_type": "markdown",
   "metadata": {},
   "source": [
    "* Monetary"
   ]
  },
  {
   "cell_type": "code",
   "execution_count": 26,
   "metadata": {},
   "outputs": [],
   "source": [
    "#check summed up spend of a customer with respect to latest date..\n",
    "\n",
    "monetary_df=df.groupby('Cust_ID',as_index=False)['Amount_Paid'].sum()\n",
    "monetary_df.columns = ['Cust_ID','Monetary']"
   ]
  },
  {
   "cell_type": "code",
   "execution_count": 27,
   "metadata": {},
   "outputs": [
    {
     "data": {
      "text/html": [
       "<div>\n",
       "<style scoped>\n",
       "    .dataframe tbody tr th:only-of-type {\n",
       "        vertical-align: middle;\n",
       "    }\n",
       "\n",
       "    .dataframe tbody tr th {\n",
       "        vertical-align: top;\n",
       "    }\n",
       "\n",
       "    .dataframe thead th {\n",
       "        text-align: right;\n",
       "    }\n",
       "</style>\n",
       "<table border=\"1\" class=\"dataframe\">\n",
       "  <thead>\n",
       "    <tr style=\"text-align: right;\">\n",
       "      <th></th>\n",
       "      <th>Cust_ID</th>\n",
       "      <th>Monetary</th>\n",
       "    </tr>\n",
       "  </thead>\n",
       "  <tbody>\n",
       "    <tr>\n",
       "      <th>0</th>\n",
       "      <td>8</td>\n",
       "      <td>3210.558</td>\n",
       "    </tr>\n",
       "    <tr>\n",
       "      <th>1</th>\n",
       "      <td>50</td>\n",
       "      <td>3458.033</td>\n",
       "    </tr>\n",
       "    <tr>\n",
       "      <th>2</th>\n",
       "      <td>72</td>\n",
       "      <td>7.580</td>\n",
       "    </tr>\n",
       "    <tr>\n",
       "      <th>3</th>\n",
       "      <td>91</td>\n",
       "      <td>109.470</td>\n",
       "    </tr>\n",
       "    <tr>\n",
       "      <th>4</th>\n",
       "      <td>112</td>\n",
       "      <td>55.200</td>\n",
       "    </tr>\n",
       "  </tbody>\n",
       "</table>\n",
       "</div>"
      ],
      "text/plain": [
       "   Cust_ID  Monetary\n",
       "0        8  3210.558\n",
       "1       50  3458.033\n",
       "2       72     7.580\n",
       "3       91   109.470\n",
       "4      112    55.200"
      ]
     },
     "execution_count": 27,
     "metadata": {},
     "output_type": "execute_result"
    }
   ],
   "source": [
    "monetary_df.head()"
   ]
  },
  {
   "cell_type": "code",
   "execution_count": 28,
   "metadata": {},
   "outputs": [],
   "source": [
    "#Combine all together all dataframe in so we have recency, frequency and monetary values together..\n",
    "\n",
    "#combine first recency and frequency..\n",
    "rf = recency_df.merge(frequency_df,left_on='Cust_ID',right_on='Cust_ID')\n",
    "\n",
    "#combibe rf frame with monetary values..\n",
    "\n",
    "rfm = rf.merge(monetary_df,left_on='Cust_ID',right_on='Cust_ID')\n",
    "\n",
    "rfm.set_index('Cust_ID',inplace=True)"
   ]
  },
  {
   "cell_type": "code",
   "execution_count": 29,
   "metadata": {},
   "outputs": [
    {
     "data": {
      "text/html": [
       "<div>\n",
       "<style scoped>\n",
       "    .dataframe tbody tr th:only-of-type {\n",
       "        vertical-align: middle;\n",
       "    }\n",
       "\n",
       "    .dataframe tbody tr th {\n",
       "        vertical-align: top;\n",
       "    }\n",
       "\n",
       "    .dataframe thead th {\n",
       "        text-align: right;\n",
       "    }\n",
       "</style>\n",
       "<table border=\"1\" class=\"dataframe\">\n",
       "  <thead>\n",
       "    <tr style=\"text-align: right;\">\n",
       "      <th></th>\n",
       "      <th>last_purchase</th>\n",
       "      <th>Recency</th>\n",
       "      <th>Frequency</th>\n",
       "      <th>Monetary</th>\n",
       "    </tr>\n",
       "    <tr>\n",
       "      <th>Cust_ID</th>\n",
       "      <th></th>\n",
       "      <th></th>\n",
       "      <th></th>\n",
       "      <th></th>\n",
       "    </tr>\n",
       "  </thead>\n",
       "  <tbody>\n",
       "    <tr>\n",
       "      <th>8</th>\n",
       "      <td>2018-12-23</td>\n",
       "      <td>8</td>\n",
       "      <td>93</td>\n",
       "      <td>3210.558</td>\n",
       "    </tr>\n",
       "    <tr>\n",
       "      <th>50</th>\n",
       "      <td>2018-12-31</td>\n",
       "      <td>0</td>\n",
       "      <td>234</td>\n",
       "      <td>3458.033</td>\n",
       "    </tr>\n",
       "    <tr>\n",
       "      <th>72</th>\n",
       "      <td>2018-12-08</td>\n",
       "      <td>23</td>\n",
       "      <td>1</td>\n",
       "      <td>7.580</td>\n",
       "    </tr>\n",
       "    <tr>\n",
       "      <th>91</th>\n",
       "      <td>2018-12-09</td>\n",
       "      <td>22</td>\n",
       "      <td>5</td>\n",
       "      <td>109.470</td>\n",
       "    </tr>\n",
       "    <tr>\n",
       "      <th>112</th>\n",
       "      <td>2017-06-18</td>\n",
       "      <td>561</td>\n",
       "      <td>1</td>\n",
       "      <td>55.200</td>\n",
       "    </tr>\n",
       "  </tbody>\n",
       "</table>\n",
       "</div>"
      ],
      "text/plain": [
       "        last_purchase  Recency  Frequency  Monetary\n",
       "Cust_ID                                            \n",
       "8          2018-12-23        8         93  3210.558\n",
       "50         2018-12-31        0        234  3458.033\n",
       "72         2018-12-08       23          1     7.580\n",
       "91         2018-12-09       22          5   109.470\n",
       "112        2017-06-18      561          1    55.200"
      ]
     },
     "execution_count": 29,
     "metadata": {},
     "output_type": "execute_result"
    }
   ],
   "source": [
    "rfm.head()"
   ]
  },
  {
   "cell_type": "code",
   "execution_count": 30,
   "metadata": {},
   "outputs": [
    {
     "name": "stderr",
     "output_type": "stream",
     "text": [
      "C:\\Users\\LENOVO\\anaconda3\\lib\\site-packages\\seaborn\\distributions.py:2551: FutureWarning: `distplot` is a deprecated function and will be removed in a future version. Please adapt your code to use either `displot` (a figure-level function with similar flexibility) or `histplot` (an axes-level function for histograms).\n",
      "  warnings.warn(msg, FutureWarning)\n",
      "C:\\Users\\LENOVO\\anaconda3\\lib\\site-packages\\seaborn\\distributions.py:2551: FutureWarning: `distplot` is a deprecated function and will be removed in a future version. Please adapt your code to use either `displot` (a figure-level function with similar flexibility) or `histplot` (an axes-level function for histograms).\n",
      "  warnings.warn(msg, FutureWarning)\n",
      "C:\\Users\\LENOVO\\anaconda3\\lib\\site-packages\\seaborn\\distributions.py:2551: FutureWarning: `distplot` is a deprecated function and will be removed in a future version. Please adapt your code to use either `displot` (a figure-level function with similar flexibility) or `histplot` (an axes-level function for histograms).\n",
      "  warnings.warn(msg, FutureWarning)\n"
     ]
    },
    {
     "data": {
      "image/png": "[encoded data removed]",
      "text/plain": [
       "<Figure size 864x720 with 3 Axes>"
      ]
     },
     "metadata": {
      "needs_background": "light"
     },
     "output_type": "display_data"
    }
   ],
   "source": [
    "plt.figure(figsize=(12,10))\n",
    "# Plot distribution of Recency\n",
    "plt.subplot(3, 1, 1)\n",
    "sns.distplot(rfm['Recency'])\n",
    "# Plot distribution of Frequency\n",
    "plt.subplot(3, 1, 2)\n",
    "sns.distplot(rfm['Frequency'])\n",
    "# Plot distribution of Monetary\n",
    "plt.subplot(3, 1, 3)\n",
    "sns.distplot(rfm['Monetary'])\n",
    "# Show the plot\n",
    "plt.show()"
   ]
  },
  {
   "cell_type": "markdown",
   "metadata": {},
   "source": [
    "The 3 densities are positively skewed "
   ]
  },
  {
   "cell_type": "code",
   "execution_count": 31,
   "metadata": {},
   "outputs": [
    {
     "data": {
      "text/html": [
       "<div>\n",
       "<style scoped>\n",
       "    .dataframe tbody tr th:only-of-type {\n",
       "        vertical-align: middle;\n",
       "    }\n",
       "\n",
       "    .dataframe tbody tr th {\n",
       "        vertical-align: top;\n",
       "    }\n",
       "\n",
       "    .dataframe thead th {\n",
       "        text-align: right;\n",
       "    }\n",
       "</style>\n",
       "<table border=\"1\" class=\"dataframe\">\n",
       "  <thead>\n",
       "    <tr style=\"text-align: right;\">\n",
       "      <th></th>\n",
       "      <th>last_purchase</th>\n",
       "      <th>Recency</th>\n",
       "      <th>Frequency</th>\n",
       "      <th>Monetary</th>\n",
       "      <th>R</th>\n",
       "      <th>F</th>\n",
       "    </tr>\n",
       "    <tr>\n",
       "      <th>Cust_ID</th>\n",
       "      <th></th>\n",
       "      <th></th>\n",
       "      <th></th>\n",
       "      <th></th>\n",
       "      <th></th>\n",
       "      <th></th>\n",
       "    </tr>\n",
       "  </thead>\n",
       "  <tbody>\n",
       "    <tr>\n",
       "      <th>8</th>\n",
       "      <td>2018-12-23</td>\n",
       "      <td>8</td>\n",
       "      <td>93</td>\n",
       "      <td>3210.558</td>\n",
       "      <td>4</td>\n",
       "      <td>3</td>\n",
       "    </tr>\n",
       "    <tr>\n",
       "      <th>50</th>\n",
       "      <td>2018-12-31</td>\n",
       "      <td>0</td>\n",
       "      <td>234</td>\n",
       "      <td>3458.033</td>\n",
       "      <td>4</td>\n",
       "      <td>3</td>\n",
       "    </tr>\n",
       "    <tr>\n",
       "      <th>72</th>\n",
       "      <td>2018-12-08</td>\n",
       "      <td>23</td>\n",
       "      <td>1</td>\n",
       "      <td>7.580</td>\n",
       "      <td>4</td>\n",
       "      <td>1</td>\n",
       "    </tr>\n",
       "    <tr>\n",
       "      <th>91</th>\n",
       "      <td>2018-12-09</td>\n",
       "      <td>22</td>\n",
       "      <td>5</td>\n",
       "      <td>109.470</td>\n",
       "      <td>4</td>\n",
       "      <td>2</td>\n",
       "    </tr>\n",
       "    <tr>\n",
       "      <th>112</th>\n",
       "      <td>2017-06-18</td>\n",
       "      <td>561</td>\n",
       "      <td>1</td>\n",
       "      <td>55.200</td>\n",
       "      <td>1</td>\n",
       "      <td>1</td>\n",
       "    </tr>\n",
       "  </tbody>\n",
       "</table>\n",
       "</div>"
      ],
      "text/plain": [
       "        last_purchase  Recency  Frequency  Monetary  R  F\n",
       "Cust_ID                                                  \n",
       "8          2018-12-23        8         93  3210.558  4  3\n",
       "50         2018-12-31        0        234  3458.033  4  3\n",
       "72         2018-12-08       23          1     7.580  4  1\n",
       "91         2018-12-09       22          5   109.470  4  2\n",
       "112        2017-06-18      561          1    55.200  1  1"
      ]
     },
     "execution_count": 31,
     "metadata": {},
     "output_type": "execute_result"
    }
   ],
   "source": [
    "# Create labels for Recency and Frequency\n",
    "r_labels = range(4, 0, -1); f_labels = range(1, 4)\n",
    "# Assign these labels to 4 equal percentile groups \n",
    "r_groups = pd.qcut(rfm['Recency'], q=4, labels=r_labels)\n",
    "# Assign these labels to 4 equal percentile groups \n",
    "f_groups = pd.qcut(rfm['Frequency'], q=4, labels=f_labels, duplicates='drop')\n",
    "# Create new columns R and F \n",
    "rfm = rfm.assign(R = r_groups.values, F = f_groups.values)\n",
    "rfm.head()"
   ]
  },
  {
   "cell_type": "code",
   "execution_count": 32,
   "metadata": {},
   "outputs": [],
   "source": [
    "# Create labels for MonetaryValue\n",
    "m_labels = range(1, 5)\n",
    "# Assign these labels to three equal percentile groups \n",
    "m_groups = pd.qcut(rfm['Monetary'], q=4, labels=m_labels)\n",
    "# Create new column M\n",
    "rfm = rfm.assign(M = m_groups.values)"
   ]
  },
  {
   "cell_type": "code",
   "execution_count": 33,
   "metadata": {},
   "outputs": [
    {
     "data": {
      "text/html": [
       "<div>\n",
       "<style scoped>\n",
       "    .dataframe tbody tr th:only-of-type {\n",
       "        vertical-align: middle;\n",
       "    }\n",
       "\n",
       "    .dataframe tbody tr th {\n",
       "        vertical-align: top;\n",
       "    }\n",
       "\n",
       "    .dataframe thead th {\n",
       "        text-align: right;\n",
       "    }\n",
       "</style>\n",
       "<table border=\"1\" class=\"dataframe\">\n",
       "  <thead>\n",
       "    <tr style=\"text-align: right;\">\n",
       "      <th></th>\n",
       "      <th>last_purchase</th>\n",
       "      <th>Recency</th>\n",
       "      <th>Frequency</th>\n",
       "      <th>Monetary</th>\n",
       "      <th>R</th>\n",
       "      <th>F</th>\n",
       "      <th>M</th>\n",
       "      <th>RFM_Segment</th>\n",
       "    </tr>\n",
       "    <tr>\n",
       "      <th>Cust_ID</th>\n",
       "      <th></th>\n",
       "      <th></th>\n",
       "      <th></th>\n",
       "      <th></th>\n",
       "      <th></th>\n",
       "      <th></th>\n",
       "      <th></th>\n",
       "      <th></th>\n",
       "    </tr>\n",
       "  </thead>\n",
       "  <tbody>\n",
       "    <tr>\n",
       "      <th>8</th>\n",
       "      <td>2018-12-23</td>\n",
       "      <td>8</td>\n",
       "      <td>93</td>\n",
       "      <td>3210.558</td>\n",
       "      <td>4</td>\n",
       "      <td>3</td>\n",
       "      <td>4</td>\n",
       "      <td>434</td>\n",
       "    </tr>\n",
       "    <tr>\n",
       "      <th>50</th>\n",
       "      <td>2018-12-31</td>\n",
       "      <td>0</td>\n",
       "      <td>234</td>\n",
       "      <td>3458.033</td>\n",
       "      <td>4</td>\n",
       "      <td>3</td>\n",
       "      <td>4</td>\n",
       "      <td>434</td>\n",
       "    </tr>\n",
       "    <tr>\n",
       "      <th>72</th>\n",
       "      <td>2018-12-08</td>\n",
       "      <td>23</td>\n",
       "      <td>1</td>\n",
       "      <td>7.580</td>\n",
       "      <td>4</td>\n",
       "      <td>1</td>\n",
       "      <td>1</td>\n",
       "      <td>411</td>\n",
       "    </tr>\n",
       "    <tr>\n",
       "      <th>91</th>\n",
       "      <td>2018-12-09</td>\n",
       "      <td>22</td>\n",
       "      <td>5</td>\n",
       "      <td>109.470</td>\n",
       "      <td>4</td>\n",
       "      <td>2</td>\n",
       "      <td>2</td>\n",
       "      <td>422</td>\n",
       "    </tr>\n",
       "    <tr>\n",
       "      <th>112</th>\n",
       "      <td>2017-06-18</td>\n",
       "      <td>561</td>\n",
       "      <td>1</td>\n",
       "      <td>55.200</td>\n",
       "      <td>1</td>\n",
       "      <td>1</td>\n",
       "      <td>2</td>\n",
       "      <td>112</td>\n",
       "    </tr>\n",
       "  </tbody>\n",
       "</table>\n",
       "</div>"
      ],
      "text/plain": [
       "        last_purchase  Recency  Frequency  Monetary  R  F  M RFM_Segment\n",
       "Cust_ID                                                                 \n",
       "8          2018-12-23        8         93  3210.558  4  3  4         434\n",
       "50         2018-12-31        0        234  3458.033  4  3  4         434\n",
       "72         2018-12-08       23          1     7.580  4  1  1         411\n",
       "91         2018-12-09       22          5   109.470  4  2  2         422\n",
       "112        2017-06-18      561          1    55.200  1  1  2         112"
      ]
     },
     "execution_count": 33,
     "metadata": {},
     "output_type": "execute_result"
    }
   ],
   "source": [
    "# Concat RFM quartile values to create RFM Segments\n",
    "def join_rfm(x): \n",
    "    return str(x['R']) + str(x['F']) + str(x['M'])\n",
    "\n",
    "rfm['RFM_Segment'] = rfm.apply(join_rfm, axis=1)\n",
    "rfms = rfm\n",
    "rfms.head()"
   ]
  },
  {
   "cell_type": "code",
   "execution_count": 34,
   "metadata": {},
   "outputs": [
    {
     "name": "stdout",
     "output_type": "stream",
     "text": [
      "45\n"
     ]
    }
   ],
   "source": [
    "\n",
    "# Count num of unique segments\n",
    "rfm_count_unique = rfms.groupby('RFM_Segment')['RFM_Segment'].nunique()\n",
    "print(rfm_count_unique.sum())\n"
   ]
  },
  {
   "cell_type": "code",
   "execution_count": 35,
   "metadata": {},
   "outputs": [
    {
     "name": "stdout",
     "output_type": "stream",
     "text": [
      "Cust_ID\n",
      "8      11\n",
      "50     11\n",
      "72      6\n",
      "91      8\n",
      "112     4\n",
      "Name: RFM_Score, dtype: int64\n"
     ]
    }
   ],
   "source": [
    "rfms['RFM_Score'] = rfms[['R','F','M']].sum(axis=1)\n",
    "print(rfms['RFM_Score'].head())"
   ]
  },
  {
   "cell_type": "code",
   "execution_count": 37,
   "metadata": {},
   "outputs": [
    {
     "name": "stdout",
     "output_type": "stream",
     "text": [
      "RFM_Score\n",
      "3      [3]\n",
      "4      [4]\n",
      "5      [5]\n",
      "6      [6]\n",
      "7      [7]\n",
      "8      [8]\n",
      "9      [9]\n",
      "10    [10]\n",
      "11    [11]\n",
      "Name: RFM_Score, dtype: object\n"
     ]
    }
   ],
   "source": [
    "# Count num of unique segments\n",
    "rfm_count_unique = rfms.groupby('RFM_Score')['RFM_Score'].unique()\n",
    "print(rfm_count_unique)"
   ]
  },
  {
   "cell_type": "code",
   "execution_count": 38,
   "metadata": {},
   "outputs": [],
   "source": [
    "\n",
    "# Define rfm_level function\n",
    "def rfm_level(df):\n",
    "    if (df['RFM_Score'] >= 9) :\n",
    "        return 'VVIP - Can\\'t Loose Them'\n",
    "    elif ((df['RFM_Score'] >= 8) and (df['M'] == 4)):\n",
    "        return 'Big Spenders'\n",
    "    elif ((df['RFM_Score'] >= 6) and (df['F'] >= 2)):\n",
    "        return 'Loyal Customers \"dima yjiw l magasin\"' \n",
    "    elif ((df['RFM_Segment'] >= 221) or (df['RFM_Score'] >= 6)):\n",
    "        return 'Potential Loyalists'\n",
    "    elif (((df['RFM_Segment'] >= 121) and (df['R'] == 1)) or df['RFM_Score'] == 6):\n",
    "        return 'Needs Attention'\n",
    "    elif ((df['RFM_Score'] >= 3) and (df['R'] == 1)):\n",
    "        return 'Almost Lost'\n",
    "    else:\n",
    "        return 'Lost Customers'"
   ]
  },
  {
   "cell_type": "code",
   "execution_count": 39,
   "metadata": {},
   "outputs": [
    {
     "data": {
      "text/html": [
       "<div>\n",
       "<style scoped>\n",
       "    .dataframe tbody tr th:only-of-type {\n",
       "        vertical-align: middle;\n",
       "    }\n",
       "\n",
       "    .dataframe tbody tr th {\n",
       "        vertical-align: top;\n",
       "    }\n",
       "\n",
       "    .dataframe thead th {\n",
       "        text-align: right;\n",
       "    }\n",
       "</style>\n",
       "<table border=\"1\" class=\"dataframe\">\n",
       "  <thead>\n",
       "    <tr style=\"text-align: right;\">\n",
       "      <th></th>\n",
       "      <th>last_purchase</th>\n",
       "      <th>Recency</th>\n",
       "      <th>Frequency</th>\n",
       "      <th>Monetary</th>\n",
       "      <th>R</th>\n",
       "      <th>F</th>\n",
       "      <th>M</th>\n",
       "      <th>RFM_Segment</th>\n",
       "      <th>RFM_Score</th>\n",
       "      <th>Customer Segment</th>\n",
       "    </tr>\n",
       "    <tr>\n",
       "      <th>Cust_ID</th>\n",
       "      <th></th>\n",
       "      <th></th>\n",
       "      <th></th>\n",
       "      <th></th>\n",
       "      <th></th>\n",
       "      <th></th>\n",
       "      <th></th>\n",
       "      <th></th>\n",
       "      <th></th>\n",
       "      <th></th>\n",
       "    </tr>\n",
       "  </thead>\n",
       "  <tbody>\n",
       "    <tr>\n",
       "      <th>8</th>\n",
       "      <td>2018-12-23</td>\n",
       "      <td>8</td>\n",
       "      <td>93</td>\n",
       "      <td>3210.558</td>\n",
       "      <td>4</td>\n",
       "      <td>3</td>\n",
       "      <td>4</td>\n",
       "      <td>434</td>\n",
       "      <td>11</td>\n",
       "      <td>VVIP - Can't Loose Them</td>\n",
       "    </tr>\n",
       "    <tr>\n",
       "      <th>50</th>\n",
       "      <td>2018-12-31</td>\n",
       "      <td>0</td>\n",
       "      <td>234</td>\n",
       "      <td>3458.033</td>\n",
       "      <td>4</td>\n",
       "      <td>3</td>\n",
       "      <td>4</td>\n",
       "      <td>434</td>\n",
       "      <td>11</td>\n",
       "      <td>VVIP - Can't Loose Them</td>\n",
       "    </tr>\n",
       "    <tr>\n",
       "      <th>72</th>\n",
       "      <td>2018-12-08</td>\n",
       "      <td>23</td>\n",
       "      <td>1</td>\n",
       "      <td>7.580</td>\n",
       "      <td>4</td>\n",
       "      <td>1</td>\n",
       "      <td>1</td>\n",
       "      <td>411</td>\n",
       "      <td>6</td>\n",
       "      <td>Potential Loyalists</td>\n",
       "    </tr>\n",
       "    <tr>\n",
       "      <th>91</th>\n",
       "      <td>2018-12-09</td>\n",
       "      <td>22</td>\n",
       "      <td>5</td>\n",
       "      <td>109.470</td>\n",
       "      <td>4</td>\n",
       "      <td>2</td>\n",
       "      <td>2</td>\n",
       "      <td>422</td>\n",
       "      <td>8</td>\n",
       "      <td>Loyal Customers \"dima yjiw l magasin\"</td>\n",
       "    </tr>\n",
       "    <tr>\n",
       "      <th>112</th>\n",
       "      <td>2017-06-18</td>\n",
       "      <td>561</td>\n",
       "      <td>1</td>\n",
       "      <td>55.200</td>\n",
       "      <td>1</td>\n",
       "      <td>1</td>\n",
       "      <td>2</td>\n",
       "      <td>112</td>\n",
       "      <td>4</td>\n",
       "      <td>Almost Lost</td>\n",
       "    </tr>\n",
       "    <tr>\n",
       "      <th>134</th>\n",
       "      <td>2017-12-12</td>\n",
       "      <td>384</td>\n",
       "      <td>6</td>\n",
       "      <td>38.690</td>\n",
       "      <td>1</td>\n",
       "      <td>2</td>\n",
       "      <td>2</td>\n",
       "      <td>122</td>\n",
       "      <td>5</td>\n",
       "      <td>Needs Attention</td>\n",
       "    </tr>\n",
       "    <tr>\n",
       "      <th>181</th>\n",
       "      <td>2018-12-31</td>\n",
       "      <td>0</td>\n",
       "      <td>34</td>\n",
       "      <td>730.054</td>\n",
       "      <td>4</td>\n",
       "      <td>3</td>\n",
       "      <td>4</td>\n",
       "      <td>434</td>\n",
       "      <td>11</td>\n",
       "      <td>VVIP - Can't Loose Them</td>\n",
       "    </tr>\n",
       "    <tr>\n",
       "      <th>187</th>\n",
       "      <td>2017-01-27</td>\n",
       "      <td>703</td>\n",
       "      <td>1</td>\n",
       "      <td>34.070</td>\n",
       "      <td>1</td>\n",
       "      <td>1</td>\n",
       "      <td>2</td>\n",
       "      <td>112</td>\n",
       "      <td>4</td>\n",
       "      <td>Almost Lost</td>\n",
       "    </tr>\n",
       "    <tr>\n",
       "      <th>198</th>\n",
       "      <td>2018-12-25</td>\n",
       "      <td>6</td>\n",
       "      <td>70</td>\n",
       "      <td>3706.332</td>\n",
       "      <td>4</td>\n",
       "      <td>3</td>\n",
       "      <td>4</td>\n",
       "      <td>434</td>\n",
       "      <td>11</td>\n",
       "      <td>VVIP - Can't Loose Them</td>\n",
       "    </tr>\n",
       "    <tr>\n",
       "      <th>234</th>\n",
       "      <td>2018-09-14</td>\n",
       "      <td>108</td>\n",
       "      <td>3</td>\n",
       "      <td>38.325</td>\n",
       "      <td>3</td>\n",
       "      <td>1</td>\n",
       "      <td>2</td>\n",
       "      <td>312</td>\n",
       "      <td>6</td>\n",
       "      <td>Potential Loyalists</td>\n",
       "    </tr>\n",
       "  </tbody>\n",
       "</table>\n",
       "</div>"
      ],
      "text/plain": [
       "        last_purchase  Recency  Frequency  Monetary  R  F  M  RFM_Segment  \\\n",
       "Cust_ID                                                                     \n",
       "8          2018-12-23        8         93  3210.558  4  3  4          434   \n",
       "50         2018-12-31        0        234  3458.033  4  3  4          434   \n",
       "72         2018-12-08       23          1     7.580  4  1  1          411   \n",
       "91         2018-12-09       22          5   109.470  4  2  2          422   \n",
       "112        2017-06-18      561          1    55.200  1  1  2          112   \n",
       "134        2017-12-12      384          6    38.690  1  2  2          122   \n",
       "181        2018-12-31        0         34   730.054  4  3  4          434   \n",
       "187        2017-01-27      703          1    34.070  1  1  2          112   \n",
       "198        2018-12-25        6         70  3706.332  4  3  4          434   \n",
       "234        2018-09-14      108          3    38.325  3  1  2          312   \n",
       "\n",
       "         RFM_Score                       Customer Segment  \n",
       "Cust_ID                                                    \n",
       "8               11                VVIP - Can't Loose Them  \n",
       "50              11                VVIP - Can't Loose Them  \n",
       "72               6                    Potential Loyalists  \n",
       "91               8  Loyal Customers \"dima yjiw l magasin\"  \n",
       "112              4                            Almost Lost  \n",
       "134              5                        Needs Attention  \n",
       "181             11                VVIP - Can't Loose Them  \n",
       "187              4                            Almost Lost  \n",
       "198             11                VVIP - Can't Loose Them  \n",
       "234              6                    Potential Loyalists  "
      ]
     },
     "execution_count": 39,
     "metadata": {},
     "output_type": "execute_result"
    }
   ],
   "source": [
    "# Create a new variable RFM_Level\n",
    "rfms['RFM_Segment'] = rfms.RFM_Segment.apply(lambda x: int(x))\n",
    "rfms['Customer Segment'] = rfms.apply(rfm_level, axis=1)\n",
    "rfms.head(10)"
   ]
  },
  {
   "cell_type": "code",
   "execution_count": 42,
   "metadata": {
    "scrolled": true
   },
   "outputs": [
    {
     "name": "stdout",
     "output_type": "stream",
     "text": [
      "                                      Recency Frequency Monetary      \n",
      "                                         mean      mean     mean count\n",
      "Customer Segment                                                      \n",
      "Almost Lost                             520.0       1.4     49.8  4977\n",
      "Big Spenders                            274.0      21.0   1053.5   309\n",
      "Lost Customers                          235.8       1.5     38.7  3056\n",
      "Loyal Customers \"dima yjiw l magasin\"   168.0       7.5    206.2  3908\n",
      "Needs Attention                         457.9       5.0     71.5   216\n"
     ]
    }
   ],
   "source": [
    "\n",
    "# Calculate average values for each Customer Segment, and return a size of each segment \n",
    "rfm_level_agg = rfms.groupby('Customer Segment').agg({\n",
    "    'Recency': 'mean',\n",
    "    'Frequency': 'mean',\n",
    "    'Monetary': ['mean', 'count']\n",
    "}).round(1)\n",
    "# Print the aggregated dataset\n",
    "print(rfm_level_agg.head())"
   ]
  },
  {
   "cell_type": "markdown",
   "metadata": {},
   "source": [
    "customers that we should keep ( bring the most profits to Monoprix ) are those who have a high RFM Score\n",
    "For example, here Customer with the ID 8 is of 'high value\" while the one with the ID 112 doesn't bring much profit to Monoprix "
   ]
  },
  {
   "cell_type": "markdown",
   "metadata": {},
   "source": [
    "## Customer segmentation using K-means clustering"
   ]
  },
  {
   "cell_type": "code",
   "execution_count": 35,
   "metadata": {},
   "outputs": [],
   "source": [
    "\n",
    "rfm_segmentation = rfm.copy()"
   ]
  },
  {
   "cell_type": "code",
   "execution_count": 36,
   "metadata": {},
   "outputs": [],
   "source": [
    "rfm_segmentation=rfm_segmentation.drop('last_purchase', axis=1)"
   ]
  },
  {
   "cell_type": "code",
   "execution_count": 37,
   "metadata": {},
   "outputs": [],
   "source": [
    "from sklearn.cluster import KMeans"
   ]
  },
  {
   "cell_type": "code",
   "execution_count": 38,
   "metadata": {},
   "outputs": [
    {
     "data": {
      "image/png": "[encoded data removed]",
      "text/plain": [
       "<Figure size 432x288 with 1 Axes>"
      ]
     },
     "metadata": {
      "needs_background": "light"
     },
     "output_type": "display_data"
    }
   ],
   "source": [
    "\n",
    "# get right number of cluster for K-means so we neeed to loop from 1 to 20 number of cluster and check score.\n",
    "#Elbow method is used to represnt that. \n",
    "Nc = range(1, 20)\n",
    "kmeans = [KMeans(n_clusters=i) for i in Nc]\n",
    "score = [kmeans[i].fit(rfm_segmentation).score(rfm_segmentation) for i in range(len(kmeans))]\n",
    "plt.plot(Nc,score)\n",
    "plt.xlabel('Number of Clusters')\n",
    "plt.ylabel('Score')\n",
    "plt.title('Elbow Curve')\n",
    "plt.show()"
   ]
  },
  {
   "cell_type": "markdown",
   "metadata": {},
   "source": [
    "Based on this graph, best value of k is 4"
   ]
  },
  {
   "cell_type": "code",
   "execution_count": 39,
   "metadata": {},
   "outputs": [],
   "source": [
    "#fitting data in Kmeans theorem.\n",
    "kmeans = KMeans(n_clusters=4, random_state=0).fit(rfm_segmentation)"
   ]
  },
  {
   "cell_type": "code",
   "execution_count": 40,
   "metadata": {},
   "outputs": [],
   "source": [
    "# this creates a new column called cluster which has cluster number for each row respectively.\n",
    "rfm_segmentation['cluster'] = kmeans.labels_"
   ]
  },
  {
   "cell_type": "code",
   "execution_count": 41,
   "metadata": {},
   "outputs": [
    {
     "data": {
      "text/html": [
       "<div>\n",
       "<style scoped>\n",
       "    .dataframe tbody tr th:only-of-type {\n",
       "        vertical-align: middle;\n",
       "    }\n",
       "\n",
       "    .dataframe tbody tr th {\n",
       "        vertical-align: top;\n",
       "    }\n",
       "\n",
       "    .dataframe thead th {\n",
       "        text-align: right;\n",
       "    }\n",
       "</style>\n",
       "<table border=\"1\" class=\"dataframe\">\n",
       "  <thead>\n",
       "    <tr style=\"text-align: right;\">\n",
       "      <th></th>\n",
       "      <th>Recency</th>\n",
       "      <th>Frequency</th>\n",
       "      <th>Monetary</th>\n",
       "      <th>cluster</th>\n",
       "    </tr>\n",
       "    <tr>\n",
       "      <th>Cust_ID</th>\n",
       "      <th></th>\n",
       "      <th></th>\n",
       "      <th></th>\n",
       "      <th></th>\n",
       "    </tr>\n",
       "  </thead>\n",
       "  <tbody>\n",
       "    <tr>\n",
       "      <th>72</th>\n",
       "      <td>23</td>\n",
       "      <td>1</td>\n",
       "      <td>7.580</td>\n",
       "      <td>0</td>\n",
       "    </tr>\n",
       "    <tr>\n",
       "      <th>91</th>\n",
       "      <td>22</td>\n",
       "      <td>5</td>\n",
       "      <td>109.470</td>\n",
       "      <td>0</td>\n",
       "    </tr>\n",
       "    <tr>\n",
       "      <th>112</th>\n",
       "      <td>561</td>\n",
       "      <td>1</td>\n",
       "      <td>55.200</td>\n",
       "      <td>0</td>\n",
       "    </tr>\n",
       "    <tr>\n",
       "      <th>134</th>\n",
       "      <td>384</td>\n",
       "      <td>6</td>\n",
       "      <td>38.690</td>\n",
       "      <td>0</td>\n",
       "    </tr>\n",
       "    <tr>\n",
       "      <th>181</th>\n",
       "      <td>0</td>\n",
       "      <td>34</td>\n",
       "      <td>730.054</td>\n",
       "      <td>0</td>\n",
       "    </tr>\n",
       "    <tr>\n",
       "      <th>187</th>\n",
       "      <td>703</td>\n",
       "      <td>1</td>\n",
       "      <td>34.070</td>\n",
       "      <td>0</td>\n",
       "    </tr>\n",
       "    <tr>\n",
       "      <th>234</th>\n",
       "      <td>108</td>\n",
       "      <td>3</td>\n",
       "      <td>38.325</td>\n",
       "      <td>0</td>\n",
       "    </tr>\n",
       "    <tr>\n",
       "      <th>282</th>\n",
       "      <td>563</td>\n",
       "      <td>5</td>\n",
       "      <td>78.785</td>\n",
       "      <td>0</td>\n",
       "    </tr>\n",
       "    <tr>\n",
       "      <th>308</th>\n",
       "      <td>254</td>\n",
       "      <td>4</td>\n",
       "      <td>100.605</td>\n",
       "      <td>0</td>\n",
       "    </tr>\n",
       "    <tr>\n",
       "      <th>357</th>\n",
       "      <td>422</td>\n",
       "      <td>4</td>\n",
       "      <td>72.913</td>\n",
       "      <td>0</td>\n",
       "    </tr>\n",
       "  </tbody>\n",
       "</table>\n",
       "</div>"
      ],
      "text/plain": [
       "         Recency  Frequency  Monetary  cluster\n",
       "Cust_ID                                       \n",
       "72            23          1     7.580        0\n",
       "91            22          5   109.470        0\n",
       "112          561          1    55.200        0\n",
       "134          384          6    38.690        0\n",
       "181            0         34   730.054        0\n",
       "187          703          1    34.070        0\n",
       "234          108          3    38.325        0\n",
       "282          563          5    78.785        0\n",
       "308          254          4   100.605        0\n",
       "357          422          4    72.913        0"
      ]
     },
     "execution_count": 41,
     "metadata": {},
     "output_type": "execute_result"
    }
   ],
   "source": [
    "#check our hypothesis\n",
    "\n",
    "rfm_segmentation[rfm_segmentation.cluster == 0].head(10)"
   ]
  },
  {
   "cell_type": "code",
   "execution_count": 42,
   "metadata": {},
   "outputs": [
    {
     "name": "stderr",
     "output_type": "stream",
     "text": [
      "C:\\Users\\LENOVO\\anaconda3\\lib\\site-packages\\seaborn\\_decorators.py:36: FutureWarning: Pass the following variables as keyword args: x, y. From version 0.12, the only valid positional argument will be `data`, and passing other arguments without an explicit keyword will result in an error or misinterpretation.\n",
      "  warnings.warn(\n"
     ]
    },
    {
     "data": {
      "text/plain": [
       "<AxesSubplot:xlabel='cluster', ylabel='Recency'>"
      ]
     },
     "execution_count": 42,
     "metadata": {},
     "output_type": "execute_result"
    },
    {
     "data": {
      "image/png": "[encoded data removed]",
      "text/plain": [
       "<Figure size 432x288 with 1 Axes>"
      ]
     },
     "metadata": {
      "needs_background": "light"
     },
     "output_type": "display_data"
    }
   ],
   "source": [
    "sns.boxplot(rfm_segmentation.cluster,rfm_segmentation.Recency)"
   ]
  },
  {
   "cell_type": "markdown",
   "metadata": {},
   "source": [
    "cluster 0 have high recency rate ( cad l customers that belong to that cluster aandhom prd twila majewech )  which is bad. cluster 1 and cluster 2 and 3 having low so they are in race of platinum\n",
    "and gold customer."
   ]
  },
  {
   "cell_type": "code",
   "execution_count": 43,
   "metadata": {},
   "outputs": [
    {
     "name": "stderr",
     "output_type": "stream",
     "text": [
      "C:\\Users\\LENOVO\\anaconda3\\lib\\site-packages\\seaborn\\_decorators.py:36: FutureWarning: Pass the following variables as keyword args: x, y. From version 0.12, the only valid positional argument will be `data`, and passing other arguments without an explicit keyword will result in an error or misinterpretation.\n",
      "  warnings.warn(\n"
     ]
    },
    {
     "data": {
      "text/plain": [
       "<AxesSubplot:xlabel='cluster', ylabel='Frequency'>"
      ]
     },
     "execution_count": 43,
     "metadata": {},
     "output_type": "execute_result"
    },
    {
     "data": {
      "image/png": "[encoded data removed]",
      "text/plain": [
       "<Figure size 432x288 with 1 Axes>"
      ]
     },
     "metadata": {
      "needs_background": "light"
     },
     "output_type": "display_data"
    }
   ],
   "source": [
    "\n",
    "sns.boxplot(rfm_segmentation.cluster,rfm_segmentation.Frequency)"
   ]
  },
  {
   "cell_type": "markdown",
   "metadata": {},
   "source": [
    "cluster 0 and 2 have low frequency rate, which is bad "
   ]
  },
  {
   "cell_type": "code",
   "execution_count": 44,
   "metadata": {},
   "outputs": [
    {
     "name": "stderr",
     "output_type": "stream",
     "text": [
      "C:\\Users\\LENOVO\\anaconda3\\lib\\site-packages\\seaborn\\_decorators.py:36: FutureWarning: Pass the following variables as keyword args: x, y. From version 0.12, the only valid positional argument will be `data`, and passing other arguments without an explicit keyword will result in an error or misinterpretation.\n",
      "  warnings.warn(\n"
     ]
    },
    {
     "data": {
      "text/plain": [
       "<AxesSubplot:xlabel='cluster', ylabel='Monetary'>"
      ]
     },
     "execution_count": 44,
     "metadata": {},
     "output_type": "execute_result"
    },
    {
     "data": {
      "image/png": "[encoded data removed]",
      "text/plain": [
       "<Figure size 432x288 with 1 Axes>"
      ]
     },
     "metadata": {
      "needs_background": "light"
     },
     "output_type": "display_data"
    }
   ],
   "source": [
    "sns.boxplot(rfm_segmentation.cluster,rfm_segmentation.Monetary)"
   ]
  },
  {
   "cell_type": "markdown",
   "metadata": {},
   "source": [
    "cluster 0 has low monetary rate which is bad, followed by cluster 2 "
   ]
  },
  {
   "cell_type": "markdown",
   "metadata": {},
   "source": [
    "based in these initial observations, \n",
    "- cluster 0 is the worst \n",
    "- cluster 3 groups the best customers ( high value customers ) \n",
    "- cluster 1 and 2 are quite similar .."
   ]
  },
  {
   "cell_type": "code",
   "execution_count": 51,
   "metadata": {},
   "outputs": [
    {
     "data": {
      "text/plain": [
       "(3921694, 13)"
      ]
     },
     "execution_count": 51,
     "metadata": {},
     "output_type": "execute_result"
    }
   ],
   "source": [
    "df.shape"
   ]
  },
  {
   "cell_type": "code",
   "execution_count": 52,
   "metadata": {},
   "outputs": [
    {
     "data": {
      "text/plain": [
       "(22990, 4)"
      ]
     },
     "execution_count": 52,
     "metadata": {},
     "output_type": "execute_result"
    }
   ],
   "source": [
    "rfm_segmentation.shape"
   ]
  }
 ],
 "metadata": {
  "kernelspec": {
   "display_name": "Python 3",
   "language": "python",
   "name": "python3"
  },
  "language_info": {
   "codemirror_mode": {
    "name": "ipython",
    "version": 3
   },
   "file_extension": ".py",
   "mimetype": "text/x-python",
   "name": "python",
   "nbconvert_exporter": "python",
   "pygments_lexer": "ipython3",
   "version": "3.8.5"
  }
 },
 "nbformat": 4,
 "nbformat_minor": 4
}
