{
 "cells": [
  {
   "cell_type": "code",
   "execution_count": 5,
   "metadata": {},
   "outputs": [],
   "source": [
    "import pandas as pd\n",
    "import numpy as np \n",
    "import matplotlib.pyplot as plt\n",
    "import seaborn as sns\n",
    "import gc\n",
    "pd.options.mode.chained_assignment = None\n",
    "\n",
    "root = 'c:/P2M_TESTS/working_on_it/'"
   ]
  },
  {
   "cell_type": "code",
   "execution_count": 113,
   "metadata": {},
   "outputs": [],
   "source": [
    "from datetime import datetime\n",
    "from dateutil.relativedelta import relativedelta"
   ]
  },
  {
   "cell_type": "markdown",
   "metadata": {},
   "source": [
    "Reading data"
   ]
  },
  {
   "cell_type": "code",
   "execution_count": 23,
   "metadata": {},
   "outputs": [
    {
     "name": "stderr",
     "output_type": "stream",
     "text": [
      "C:\\Users\\LENOVO\\anaconda3\\lib\\site-packages\\IPython\\core\\interactiveshell.py:3146: DtypeWarning: Columns (3) have mixed types.Specify dtype option on import or set low_memory=False.\n",
      "  has_raised = await self.run_ast_nodes(code_ast.body, cell_name,\n"
     ]
    }
   ],
   "source": [
    "df1=pd.read_csv(\"c:/P2M_TESTS/working_on_it/Data/2017.txt\", sep=\" \" ,delimiter=\";\")\n"
   ]
  },
  {
   "cell_type": "code",
   "execution_count": 24,
   "metadata": {},
   "outputs": [],
   "source": [
    "df2=pd.read_csv(\"c:/P2M_TESTS/working_on_it/Data/2018.txt\", sep=\" \" ,delimiter=\";\")"
   ]
  },
  {
   "cell_type": "code",
   "execution_count": 74,
   "metadata": {},
   "outputs": [],
   "source": [
    "df=pd.concat([df1, df2])"
   ]
  },
  {
   "cell_type": "code",
   "execution_count": 75,
   "metadata": {},
   "outputs": [
    {
     "data": {
      "text/html": [
       "<div>\n",
       "<style scoped>\n",
       "    .dataframe tbody tr th:only-of-type {\n",
       "        vertical-align: middle;\n",
       "    }\n",
       "\n",
       "    .dataframe tbody tr th {\n",
       "        vertical-align: top;\n",
       "    }\n",
       "\n",
       "    .dataframe thead th {\n",
       "        text-align: right;\n",
       "    }\n",
       "</style>\n",
       "<table border=\"1\" class=\"dataframe\">\n",
       "  <thead>\n",
       "    <tr style=\"text-align: right;\">\n",
       "      <th></th>\n",
       "      <th>Store_ID</th>\n",
       "      <th>Date</th>\n",
       "      <th>Basket_ID</th>\n",
       "      <th>Structure_ID</th>\n",
       "      <th>Article_ID</th>\n",
       "      <th>Quantity</th>\n",
       "      <th>Amount_Paid</th>\n",
       "      <th>Cust_ID</th>\n",
       "    </tr>\n",
       "  </thead>\n",
       "  <tbody>\n",
       "    <tr>\n",
       "      <th>1960989</th>\n",
       "      <td>91</td>\n",
       "      <td>20181231</td>\n",
       "      <td>91648594</td>\n",
       "      <td>2865438133779</td>\n",
       "      <td>71032374.0</td>\n",
       "      <td>2.0</td>\n",
       "      <td>9.091</td>\n",
       "      <td>796985</td>\n",
       "    </tr>\n",
       "    <tr>\n",
       "      <th>1960990</th>\n",
       "      <td>91</td>\n",
       "      <td>20181231</td>\n",
       "      <td>91648594</td>\n",
       "      <td>2866480013777</td>\n",
       "      <td>70633122.0</td>\n",
       "      <td>1.0</td>\n",
       "      <td>1.818</td>\n",
       "      <td>796985</td>\n",
       "    </tr>\n",
       "    <tr>\n",
       "      <th>1960991</th>\n",
       "      <td>91</td>\n",
       "      <td>20181231</td>\n",
       "      <td>91648594</td>\n",
       "      <td>2866480037979</td>\n",
       "      <td>70632850.0</td>\n",
       "      <td>2.0</td>\n",
       "      <td>3.636</td>\n",
       "      <td>796985</td>\n",
       "    </tr>\n",
       "    <tr>\n",
       "      <th>1960992</th>\n",
       "      <td>91</td>\n",
       "      <td>20181231</td>\n",
       "      <td>91648594</td>\n",
       "      <td>2866480037979</td>\n",
       "      <td>70730410.0</td>\n",
       "      <td>1.0</td>\n",
       "      <td>1.818</td>\n",
       "      <td>796985</td>\n",
       "    </tr>\n",
       "    <tr>\n",
       "      <th>1960993</th>\n",
       "      <td>91</td>\n",
       "      <td>20181231</td>\n",
       "      <td>91648594</td>\n",
       "      <td>2866480037979</td>\n",
       "      <td>70730412.0</td>\n",
       "      <td>1.0</td>\n",
       "      <td>1.818</td>\n",
       "      <td>796985</td>\n",
       "    </tr>\n",
       "  </tbody>\n",
       "</table>\n",
       "</div>"
      ],
      "text/plain": [
       "         Store_ID      Date  Basket_ID   Structure_ID  Article_ID  Quantity  \\\n",
       "1960989        91  20181231   91648594  2865438133779  71032374.0       2.0   \n",
       "1960990        91  20181231   91648594  2866480013777  70633122.0       1.0   \n",
       "1960991        91  20181231   91648594  2866480037979  70632850.0       2.0   \n",
       "1960992        91  20181231   91648594  2866480037979  70730410.0       1.0   \n",
       "1960993        91  20181231   91648594  2866480037979  70730412.0       1.0   \n",
       "\n",
       "         Amount_Paid  Cust_ID  \n",
       "1960989        9.091   796985  \n",
       "1960990        1.818   796985  \n",
       "1960991        3.636   796985  \n",
       "1960992        1.818   796985  \n",
       "1960993        1.818   796985  "
      ]
     },
     "execution_count": 75,
     "metadata": {},
     "output_type": "execute_result"
    }
   ],
   "source": [
    "df.tail()"
   ]
  },
  {
   "cell_type": "code",
   "execution_count": 76,
   "metadata": {},
   "outputs": [
    {
     "data": {
      "text/plain": [
       "Store_ID         0\n",
       "Date             0\n",
       "Basket_ID        0\n",
       "Structure_ID    11\n",
       "Article_ID       7\n",
       "Quantity         0\n",
       "Amount_Paid      0\n",
       "Cust_ID          0\n",
       "dtype: int64"
      ]
     },
     "execution_count": 76,
     "metadata": {},
     "output_type": "execute_result"
    }
   ],
   "source": [
    "df.isnull().sum()"
   ]
  },
  {
   "cell_type": "code",
   "execution_count": 77,
   "metadata": {},
   "outputs": [],
   "source": [
    "#removing observations tht have null 'Structure_ID'\n",
    "df = df[pd.notnull(df['Structure_ID'])]"
   ]
  },
  {
   "cell_type": "code",
   "execution_count": 14,
   "metadata": {},
   "outputs": [
    {
     "name": "stdout",
     "output_type": "stream",
     "text": [
      "         Store_ID      Date  Basket_ID   Structure_ID   Article_ID  Quantity  \\\n",
      "1545           91  20170101   91290281  1173201070159  662000067.0     -3.00   \n",
      "2933           91  20170102   91027217  1443643010202  436041880.0     -1.00   \n",
      "2934           91  20170102   91027217  1443643010202  436042700.0     -1.00   \n",
      "2935           91  20170102   91027217  1443654010702  434001480.0     -1.00   \n",
      "2936           91  20170102   91027217  1443654010702  434001640.0     -1.00   \n",
      "...           ...       ...        ...            ...          ...       ...   \n",
      "1956265        91  20181231   91415076  1114121011126  613480497.0     -2.00   \n",
      "1957822        91  20181231   91454917  1335523010701  700082008.0     -1.00   \n",
      "1958054        91  20181231   91476487  1114149020222  645080010.0     -1.00   \n",
      "1958608        91  20181231   91546329  1203600010701  641784448.0     -1.06   \n",
      "1960272        91  20181231   91581148  1101168130101  611642657.0     -1.00   \n",
      "\n",
      "         Amount_Paid  Cust_ID  \n",
      "1545          -2.970   480376  \n",
      "2933          -9.200    46985  \n",
      "2934          -9.200    46985  \n",
      "2935          -6.790    46985  \n",
      "2936          -6.790    46985  \n",
      "...              ...      ...  \n",
      "1956265       -2.660    25362  \n",
      "1957822      -12.550  1064057  \n",
      "1958054       -4.625    63794  \n",
      "1958608      -25.760   332179  \n",
      "1960272       -9.450    20067  \n",
      "\n",
      "[3089 rows x 8 columns]\n"
     ]
    }
   ],
   "source": [
    "print(df[df['Quantity']<0 ])"
   ]
  },
  {
   "cell_type": "markdown",
   "metadata": {},
   "source": [
    "As we can see, there are 3089 rows ( observations ) with negative quantities, they correspond to mistakes made during data collection and must be removed "
   ]
  },
  {
   "cell_type": "code",
   "execution_count": 78,
   "metadata": {},
   "outputs": [],
   "source": [
    "# removing observations with negative quantities \n",
    "df=df[(df['Quantity']>0)]"
   ]
  },
  {
   "cell_type": "code",
   "execution_count": 49,
   "metadata": {},
   "outputs": [
    {
     "data": {
      "text/plain": [
       "(3921694, 8)"
      ]
     },
     "execution_count": 49,
     "metadata": {},
     "output_type": "execute_result"
    }
   ],
   "source": [
    "df.shape"
   ]
  },
  {
   "cell_type": "markdown",
   "metadata": {},
   "source": [
    "After doing some cleaning, our dataframe contains 3 921 694 observations in total "
   ]
  },
  {
   "cell_type": "code",
   "execution_count": 79,
   "metadata": {},
   "outputs": [],
   "source": [
    "df['Date'] = pd.to_datetime(df['Date'], format='%Y%m%d')"
   ]
  },
  {
   "cell_type": "code",
   "execution_count": 80,
   "metadata": {},
   "outputs": [
    {
     "name": "stderr",
     "output_type": "stream",
     "text": [
      "<ipython-input-80-f94811dda6a7>:3: FutureWarning: Series.dt.weekofyear and Series.dt.week have been deprecated.  Please use Series.dt.isocalendar().week instead.\n",
      "  df['Week'] = df['Date'].dt.week\n"
     ]
    }
   ],
   "source": [
    "df['Year'] = df['Date'].dt.year\n",
    "df['Month'] = df['Date'].dt.month\n",
    "df['Week'] = df['Date'].dt.week\n",
    "df['Day of Week'] = df['Date'].dt.dayofweek"
   ]
  },
  {
   "cell_type": "code",
   "execution_count": 81,
   "metadata": {},
   "outputs": [
    {
     "data": {
      "text/html": [
       "<div>\n",
       "<style scoped>\n",
       "    .dataframe tbody tr th:only-of-type {\n",
       "        vertical-align: middle;\n",
       "    }\n",
       "\n",
       "    .dataframe tbody tr th {\n",
       "        vertical-align: top;\n",
       "    }\n",
       "\n",
       "    .dataframe thead th {\n",
       "        text-align: right;\n",
       "    }\n",
       "</style>\n",
       "<table border=\"1\" class=\"dataframe\">\n",
       "  <thead>\n",
       "    <tr style=\"text-align: right;\">\n",
       "      <th></th>\n",
       "      <th>Store_ID</th>\n",
       "      <th>Date</th>\n",
       "      <th>Basket_ID</th>\n",
       "      <th>Structure_ID</th>\n",
       "      <th>Article_ID</th>\n",
       "      <th>Quantity</th>\n",
       "      <th>Amount_Paid</th>\n",
       "      <th>Cust_ID</th>\n",
       "      <th>Year</th>\n",
       "      <th>Month</th>\n",
       "      <th>Week</th>\n",
       "      <th>Day of Week</th>\n",
       "    </tr>\n",
       "  </thead>\n",
       "  <tbody>\n",
       "    <tr>\n",
       "      <th>0</th>\n",
       "      <td>91</td>\n",
       "      <td>2017-01-01</td>\n",
       "      <td>91010227</td>\n",
       "      <td>2512384190301</td>\n",
       "      <td>392900030.0</td>\n",
       "      <td>1.0</td>\n",
       "      <td>1.390</td>\n",
       "      <td>18579</td>\n",
       "      <td>2017</td>\n",
       "      <td>1</td>\n",
       "      <td>52</td>\n",
       "      <td>6</td>\n",
       "    </tr>\n",
       "    <tr>\n",
       "      <th>1</th>\n",
       "      <td>91</td>\n",
       "      <td>2017-01-01</td>\n",
       "      <td>91010227</td>\n",
       "      <td>2544340090301</td>\n",
       "      <td>396900550.0</td>\n",
       "      <td>1.0</td>\n",
       "      <td>2.500</td>\n",
       "      <td>18579</td>\n",
       "      <td>2017</td>\n",
       "      <td>1</td>\n",
       "      <td>52</td>\n",
       "      <td>6</td>\n",
       "    </tr>\n",
       "    <tr>\n",
       "      <th>2</th>\n",
       "      <td>91</td>\n",
       "      <td>2017-01-01</td>\n",
       "      <td>91010227</td>\n",
       "      <td>2866718070977</td>\n",
       "      <td>25000135.0</td>\n",
       "      <td>1.0</td>\n",
       "      <td>2.600</td>\n",
       "      <td>18579</td>\n",
       "      <td>2017</td>\n",
       "      <td>1</td>\n",
       "      <td>52</td>\n",
       "      <td>6</td>\n",
       "    </tr>\n",
       "    <tr>\n",
       "      <th>3</th>\n",
       "      <td>91</td>\n",
       "      <td>2017-01-01</td>\n",
       "      <td>91010227</td>\n",
       "      <td>2866718070977</td>\n",
       "      <td>25000145.0</td>\n",
       "      <td>1.0</td>\n",
       "      <td>2.450</td>\n",
       "      <td>18579</td>\n",
       "      <td>2017</td>\n",
       "      <td>1</td>\n",
       "      <td>52</td>\n",
       "      <td>6</td>\n",
       "    </tr>\n",
       "    <tr>\n",
       "      <th>4</th>\n",
       "      <td>91</td>\n",
       "      <td>2017-01-01</td>\n",
       "      <td>91010227</td>\n",
       "      <td>2866718071177</td>\n",
       "      <td>24400444.0</td>\n",
       "      <td>2.0</td>\n",
       "      <td>5.380</td>\n",
       "      <td>18579</td>\n",
       "      <td>2017</td>\n",
       "      <td>1</td>\n",
       "      <td>52</td>\n",
       "      <td>6</td>\n",
       "    </tr>\n",
       "    <tr>\n",
       "      <th>...</th>\n",
       "      <td>...</td>\n",
       "      <td>...</td>\n",
       "      <td>...</td>\n",
       "      <td>...</td>\n",
       "      <td>...</td>\n",
       "      <td>...</td>\n",
       "      <td>...</td>\n",
       "      <td>...</td>\n",
       "      <td>...</td>\n",
       "      <td>...</td>\n",
       "      <td>...</td>\n",
       "      <td>...</td>\n",
       "    </tr>\n",
       "    <tr>\n",
       "      <th>1960989</th>\n",
       "      <td>91</td>\n",
       "      <td>2018-12-31</td>\n",
       "      <td>91648594</td>\n",
       "      <td>2865438133779</td>\n",
       "      <td>71032374.0</td>\n",
       "      <td>2.0</td>\n",
       "      <td>9.091</td>\n",
       "      <td>796985</td>\n",
       "      <td>2018</td>\n",
       "      <td>12</td>\n",
       "      <td>1</td>\n",
       "      <td>0</td>\n",
       "    </tr>\n",
       "    <tr>\n",
       "      <th>1960990</th>\n",
       "      <td>91</td>\n",
       "      <td>2018-12-31</td>\n",
       "      <td>91648594</td>\n",
       "      <td>2866480013777</td>\n",
       "      <td>70633122.0</td>\n",
       "      <td>1.0</td>\n",
       "      <td>1.818</td>\n",
       "      <td>796985</td>\n",
       "      <td>2018</td>\n",
       "      <td>12</td>\n",
       "      <td>1</td>\n",
       "      <td>0</td>\n",
       "    </tr>\n",
       "    <tr>\n",
       "      <th>1960991</th>\n",
       "      <td>91</td>\n",
       "      <td>2018-12-31</td>\n",
       "      <td>91648594</td>\n",
       "      <td>2866480037979</td>\n",
       "      <td>70632850.0</td>\n",
       "      <td>2.0</td>\n",
       "      <td>3.636</td>\n",
       "      <td>796985</td>\n",
       "      <td>2018</td>\n",
       "      <td>12</td>\n",
       "      <td>1</td>\n",
       "      <td>0</td>\n",
       "    </tr>\n",
       "    <tr>\n",
       "      <th>1960992</th>\n",
       "      <td>91</td>\n",
       "      <td>2018-12-31</td>\n",
       "      <td>91648594</td>\n",
       "      <td>2866480037979</td>\n",
       "      <td>70730410.0</td>\n",
       "      <td>1.0</td>\n",
       "      <td>1.818</td>\n",
       "      <td>796985</td>\n",
       "      <td>2018</td>\n",
       "      <td>12</td>\n",
       "      <td>1</td>\n",
       "      <td>0</td>\n",
       "    </tr>\n",
       "    <tr>\n",
       "      <th>1960993</th>\n",
       "      <td>91</td>\n",
       "      <td>2018-12-31</td>\n",
       "      <td>91648594</td>\n",
       "      <td>2866480037979</td>\n",
       "      <td>70730412.0</td>\n",
       "      <td>1.0</td>\n",
       "      <td>1.818</td>\n",
       "      <td>796985</td>\n",
       "      <td>2018</td>\n",
       "      <td>12</td>\n",
       "      <td>1</td>\n",
       "      <td>0</td>\n",
       "    </tr>\n",
       "  </tbody>\n",
       "</table>\n",
       "<p>3921694 rows × 12 columns</p>\n",
       "</div>"
      ],
      "text/plain": [
       "         Store_ID       Date  Basket_ID   Structure_ID   Article_ID  Quantity  \\\n",
       "0              91 2017-01-01   91010227  2512384190301  392900030.0       1.0   \n",
       "1              91 2017-01-01   91010227  2544340090301  396900550.0       1.0   \n",
       "2              91 2017-01-01   91010227  2866718070977   25000135.0       1.0   \n",
       "3              91 2017-01-01   91010227  2866718070977   25000145.0       1.0   \n",
       "4              91 2017-01-01   91010227  2866718071177   24400444.0       2.0   \n",
       "...           ...        ...        ...            ...          ...       ...   \n",
       "1960989        91 2018-12-31   91648594  2865438133779   71032374.0       2.0   \n",
       "1960990        91 2018-12-31   91648594  2866480013777   70633122.0       1.0   \n",
       "1960991        91 2018-12-31   91648594  2866480037979   70632850.0       2.0   \n",
       "1960992        91 2018-12-31   91648594  2866480037979   70730410.0       1.0   \n",
       "1960993        91 2018-12-31   91648594  2866480037979   70730412.0       1.0   \n",
       "\n",
       "         Amount_Paid  Cust_ID  Year  Month  Week  Day of Week  \n",
       "0              1.390    18579  2017      1    52            6  \n",
       "1              2.500    18579  2017      1    52            6  \n",
       "2              2.600    18579  2017      1    52            6  \n",
       "3              2.450    18579  2017      1    52            6  \n",
       "4              5.380    18579  2017      1    52            6  \n",
       "...              ...      ...   ...    ...   ...          ...  \n",
       "1960989        9.091   796985  2018     12     1            0  \n",
       "1960990        1.818   796985  2018     12     1            0  \n",
       "1960991        3.636   796985  2018     12     1            0  \n",
       "1960992        1.818   796985  2018     12     1            0  \n",
       "1960993        1.818   796985  2018     12     1            0  \n",
       "\n",
       "[3921694 rows x 12 columns]"
      ]
     },
     "execution_count": 81,
     "metadata": {},
     "output_type": "execute_result"
    }
   ],
   "source": [
    "df"
   ]
  },
  {
   "cell_type": "code",
   "execution_count": 82,
   "metadata": {},
   "outputs": [],
   "source": [
    "dayofweek_mapping = dict({0: \"Monday\", \n",
    "                         1: \"Tuesday\", \n",
    "                         2: \"Wednesday\" , \n",
    "                         3: \"Thursday\", \n",
    "                         4: \"Friday\", \n",
    "                         5: \"Saturday\", \n",
    "                         6: \"Sunday\"})\n",
    "df[\"Day of Week\"] = df[\"Day of Week\"].map(dayofweek_mapping)"
   ]
  },
  {
   "cell_type": "code",
   "execution_count": 83,
   "metadata": {},
   "outputs": [
    {
     "data": {
      "text/html": [
       "<div>\n",
       "<style scoped>\n",
       "    .dataframe tbody tr th:only-of-type {\n",
       "        vertical-align: middle;\n",
       "    }\n",
       "\n",
       "    .dataframe tbody tr th {\n",
       "        vertical-align: top;\n",
       "    }\n",
       "\n",
       "    .dataframe thead th {\n",
       "        text-align: right;\n",
       "    }\n",
       "</style>\n",
       "<table border=\"1\" class=\"dataframe\">\n",
       "  <thead>\n",
       "    <tr style=\"text-align: right;\">\n",
       "      <th></th>\n",
       "      <th>Store_ID</th>\n",
       "      <th>Date</th>\n",
       "      <th>Basket_ID</th>\n",
       "      <th>Structure_ID</th>\n",
       "      <th>Article_ID</th>\n",
       "      <th>Quantity</th>\n",
       "      <th>Amount_Paid</th>\n",
       "      <th>Cust_ID</th>\n",
       "      <th>Year</th>\n",
       "      <th>Month</th>\n",
       "      <th>Week</th>\n",
       "      <th>Day of Week</th>\n",
       "    </tr>\n",
       "  </thead>\n",
       "  <tbody>\n",
       "    <tr>\n",
       "      <th>0</th>\n",
       "      <td>91</td>\n",
       "      <td>2017-01-01</td>\n",
       "      <td>91010227</td>\n",
       "      <td>2512384190301</td>\n",
       "      <td>392900030.0</td>\n",
       "      <td>1.0</td>\n",
       "      <td>1.390</td>\n",
       "      <td>18579</td>\n",
       "      <td>2017</td>\n",
       "      <td>1</td>\n",
       "      <td>52</td>\n",
       "      <td>Sunday</td>\n",
       "    </tr>\n",
       "    <tr>\n",
       "      <th>1</th>\n",
       "      <td>91</td>\n",
       "      <td>2017-01-01</td>\n",
       "      <td>91010227</td>\n",
       "      <td>2544340090301</td>\n",
       "      <td>396900550.0</td>\n",
       "      <td>1.0</td>\n",
       "      <td>2.500</td>\n",
       "      <td>18579</td>\n",
       "      <td>2017</td>\n",
       "      <td>1</td>\n",
       "      <td>52</td>\n",
       "      <td>Sunday</td>\n",
       "    </tr>\n",
       "    <tr>\n",
       "      <th>2</th>\n",
       "      <td>91</td>\n",
       "      <td>2017-01-01</td>\n",
       "      <td>91010227</td>\n",
       "      <td>2866718070977</td>\n",
       "      <td>25000135.0</td>\n",
       "      <td>1.0</td>\n",
       "      <td>2.600</td>\n",
       "      <td>18579</td>\n",
       "      <td>2017</td>\n",
       "      <td>1</td>\n",
       "      <td>52</td>\n",
       "      <td>Sunday</td>\n",
       "    </tr>\n",
       "    <tr>\n",
       "      <th>3</th>\n",
       "      <td>91</td>\n",
       "      <td>2017-01-01</td>\n",
       "      <td>91010227</td>\n",
       "      <td>2866718070977</td>\n",
       "      <td>25000145.0</td>\n",
       "      <td>1.0</td>\n",
       "      <td>2.450</td>\n",
       "      <td>18579</td>\n",
       "      <td>2017</td>\n",
       "      <td>1</td>\n",
       "      <td>52</td>\n",
       "      <td>Sunday</td>\n",
       "    </tr>\n",
       "    <tr>\n",
       "      <th>4</th>\n",
       "      <td>91</td>\n",
       "      <td>2017-01-01</td>\n",
       "      <td>91010227</td>\n",
       "      <td>2866718071177</td>\n",
       "      <td>24400444.0</td>\n",
       "      <td>2.0</td>\n",
       "      <td>5.380</td>\n",
       "      <td>18579</td>\n",
       "      <td>2017</td>\n",
       "      <td>1</td>\n",
       "      <td>52</td>\n",
       "      <td>Sunday</td>\n",
       "    </tr>\n",
       "    <tr>\n",
       "      <th>...</th>\n",
       "      <td>...</td>\n",
       "      <td>...</td>\n",
       "      <td>...</td>\n",
       "      <td>...</td>\n",
       "      <td>...</td>\n",
       "      <td>...</td>\n",
       "      <td>...</td>\n",
       "      <td>...</td>\n",
       "      <td>...</td>\n",
       "      <td>...</td>\n",
       "      <td>...</td>\n",
       "      <td>...</td>\n",
       "    </tr>\n",
       "    <tr>\n",
       "      <th>1960989</th>\n",
       "      <td>91</td>\n",
       "      <td>2018-12-31</td>\n",
       "      <td>91648594</td>\n",
       "      <td>2865438133779</td>\n",
       "      <td>71032374.0</td>\n",
       "      <td>2.0</td>\n",
       "      <td>9.091</td>\n",
       "      <td>796985</td>\n",
       "      <td>2018</td>\n",
       "      <td>12</td>\n",
       "      <td>1</td>\n",
       "      <td>Monday</td>\n",
       "    </tr>\n",
       "    <tr>\n",
       "      <th>1960990</th>\n",
       "      <td>91</td>\n",
       "      <td>2018-12-31</td>\n",
       "      <td>91648594</td>\n",
       "      <td>2866480013777</td>\n",
       "      <td>70633122.0</td>\n",
       "      <td>1.0</td>\n",
       "      <td>1.818</td>\n",
       "      <td>796985</td>\n",
       "      <td>2018</td>\n",
       "      <td>12</td>\n",
       "      <td>1</td>\n",
       "      <td>Monday</td>\n",
       "    </tr>\n",
       "    <tr>\n",
       "      <th>1960991</th>\n",
       "      <td>91</td>\n",
       "      <td>2018-12-31</td>\n",
       "      <td>91648594</td>\n",
       "      <td>2866480037979</td>\n",
       "      <td>70632850.0</td>\n",
       "      <td>2.0</td>\n",
       "      <td>3.636</td>\n",
       "      <td>796985</td>\n",
       "      <td>2018</td>\n",
       "      <td>12</td>\n",
       "      <td>1</td>\n",
       "      <td>Monday</td>\n",
       "    </tr>\n",
       "    <tr>\n",
       "      <th>1960992</th>\n",
       "      <td>91</td>\n",
       "      <td>2018-12-31</td>\n",
       "      <td>91648594</td>\n",
       "      <td>2866480037979</td>\n",
       "      <td>70730410.0</td>\n",
       "      <td>1.0</td>\n",
       "      <td>1.818</td>\n",
       "      <td>796985</td>\n",
       "      <td>2018</td>\n",
       "      <td>12</td>\n",
       "      <td>1</td>\n",
       "      <td>Monday</td>\n",
       "    </tr>\n",
       "    <tr>\n",
       "      <th>1960993</th>\n",
       "      <td>91</td>\n",
       "      <td>2018-12-31</td>\n",
       "      <td>91648594</td>\n",
       "      <td>2866480037979</td>\n",
       "      <td>70730412.0</td>\n",
       "      <td>1.0</td>\n",
       "      <td>1.818</td>\n",
       "      <td>796985</td>\n",
       "      <td>2018</td>\n",
       "      <td>12</td>\n",
       "      <td>1</td>\n",
       "      <td>Monday</td>\n",
       "    </tr>\n",
       "  </tbody>\n",
       "</table>\n",
       "<p>3921694 rows × 12 columns</p>\n",
       "</div>"
      ],
      "text/plain": [
       "         Store_ID       Date  Basket_ID   Structure_ID   Article_ID  Quantity  \\\n",
       "0              91 2017-01-01   91010227  2512384190301  392900030.0       1.0   \n",
       "1              91 2017-01-01   91010227  2544340090301  396900550.0       1.0   \n",
       "2              91 2017-01-01   91010227  2866718070977   25000135.0       1.0   \n",
       "3              91 2017-01-01   91010227  2866718070977   25000145.0       1.0   \n",
       "4              91 2017-01-01   91010227  2866718071177   24400444.0       2.0   \n",
       "...           ...        ...        ...            ...          ...       ...   \n",
       "1960989        91 2018-12-31   91648594  2865438133779   71032374.0       2.0   \n",
       "1960990        91 2018-12-31   91648594  2866480013777   70633122.0       1.0   \n",
       "1960991        91 2018-12-31   91648594  2866480037979   70632850.0       2.0   \n",
       "1960992        91 2018-12-31   91648594  2866480037979   70730410.0       1.0   \n",
       "1960993        91 2018-12-31   91648594  2866480037979   70730412.0       1.0   \n",
       "\n",
       "         Amount_Paid  Cust_ID  Year  Month  Week Day of Week  \n",
       "0              1.390    18579  2017      1    52      Sunday  \n",
       "1              2.500    18579  2017      1    52      Sunday  \n",
       "2              2.600    18579  2017      1    52      Sunday  \n",
       "3              2.450    18579  2017      1    52      Sunday  \n",
       "4              5.380    18579  2017      1    52      Sunday  \n",
       "...              ...      ...   ...    ...   ...         ...  \n",
       "1960989        9.091   796985  2018     12     1      Monday  \n",
       "1960990        1.818   796985  2018     12     1      Monday  \n",
       "1960991        3.636   796985  2018     12     1      Monday  \n",
       "1960992        1.818   796985  2018     12     1      Monday  \n",
       "1960993        1.818   796985  2018     12     1      Monday  \n",
       "\n",
       "[3921694 rows x 12 columns]"
      ]
     },
     "execution_count": 83,
     "metadata": {},
     "output_type": "execute_result"
    }
   ],
   "source": [
    "df"
   ]
  },
  {
   "cell_type": "markdown",
   "metadata": {},
   "source": [
    "then see transactions by month, year, day of the week .."
   ]
  },
  {
   "cell_type": "code",
   "execution_count": 84,
   "metadata": {},
   "outputs": [
    {
     "data": {
      "image/png": "[encoded data removed]",
      "text/plain": [
       "<Figure size 1152x864 with 3 Axes>"
      ]
     },
     "metadata": {
      "needs_background": "light"
     },
     "output_type": "display_data"
    }
   ],
   "source": [
    "plt.figure(figsize=(16,12))\n",
    "plt.subplot(3,2,1)\n",
    "sns.lineplot(x = \"Month\", y = \"Quantity\", data = df.groupby(\"Month\").sum(\"Quantity\"), marker = \"o\", color = \"lightseagreen\")\n",
    "plt.axvline(11, color = \"k\", linestyle = '--', alpha = 0.3)\n",
    "#plt.text(4.50, 1.3e4, \"Most Transactions\")\n",
    "plt.title(\"Transactions by Month\")\n",
    "plt.subplot(3,2,2)\n",
    "df.groupby(\"Year\").sum()[\"Quantity\"].plot(kind = \"bar\")\n",
    "plt.title(\"Transactions by Year\")\n",
    "#plt.subplot(3,2,3)\n",
    "#df.groupby(\"Quarter\").sum()[\"Quantity\"].plot(kind = \"bar\", color = \"darkslategrey\")\n",
    "#plt.title(\"Transactions by Quarter\")\n",
    "#plt.subplot(3,2,3)\n",
    "#sns.lineplot(x = \"Day\", y = \"Quantity\", data = df.groupby(\"Day\").sum(\"Quantity\"), marker = \"o\", )\n",
    "#plt.axvline(7, color = 'r', linestyle = '--')\n",
    "#plt.axvline(15, color = 'k', linestyle = \"dotted\")\n",
    "#plt.title(\"Transactions by Day\")\n",
    "plt.subplot(3,2,4)\n",
    "df.groupby(\"Day of Week\").sum()[\"Quantity\"].plot(kind = \"bar\", color = \"darkorange\")\n",
    "plt.title(\"Transactions by Day of Week\")\n",
    "plt.tight_layout()\n",
    "plt.show()"
   ]
  },
  {
   "cell_type": "markdown",
   "metadata": {},
   "source": [
    " - most transactions happen on the weekends ( saturday and sunday )  and it's practically the same on the other days \n",
    " - no decline in transactions between 2017 and 2018 \n",
    " - in summer ( June, July, August ) there is a significant decline in transaction that in other months ??"
   ]
  },
  {
   "cell_type": "markdown",
   "metadata": {},
   "source": [
    "1. INSIGHT ON PRODUCTS AND CUSTOMERS "
   ]
  },
  {
   "cell_type": "markdown",
   "metadata": {},
   "source": [
    "* Let's see which articles are the most popular among users "
   ]
  },
  {
   "cell_type": "code",
   "execution_count": 85,
   "metadata": {},
   "outputs": [
    {
     "data": {
      "text/html": [
       "<div>\n",
       "<style scoped>\n",
       "    .dataframe tbody tr th:only-of-type {\n",
       "        vertical-align: middle;\n",
       "    }\n",
       "\n",
       "    .dataframe tbody tr th {\n",
       "        vertical-align: top;\n",
       "    }\n",
       "\n",
       "    .dataframe thead th {\n",
       "        text-align: right;\n",
       "    }\n",
       "</style>\n",
       "<table border=\"1\" class=\"dataframe\">\n",
       "  <thead>\n",
       "    <tr style=\"text-align: right;\">\n",
       "      <th></th>\n",
       "      <th>Article_ID</th>\n",
       "      <th>total_users</th>\n",
       "    </tr>\n",
       "  </thead>\n",
       "  <tbody>\n",
       "    <tr>\n",
       "      <th>32693</th>\n",
       "      <td>556800290.0</td>\n",
       "      <td>8813</td>\n",
       "    </tr>\n",
       "    <tr>\n",
       "      <th>40452</th>\n",
       "      <td>848600100.0</td>\n",
       "      <td>7957</td>\n",
       "    </tr>\n",
       "    <tr>\n",
       "      <th>38165</th>\n",
       "      <td>715180033.0</td>\n",
       "      <td>7021</td>\n",
       "    </tr>\n",
       "    <tr>\n",
       "      <th>39943</th>\n",
       "      <td>842000200.0</td>\n",
       "      <td>6774</td>\n",
       "    </tr>\n",
       "    <tr>\n",
       "      <th>39868</th>\n",
       "      <td>841100500.0</td>\n",
       "      <td>6697</td>\n",
       "    </tr>\n",
       "    <tr>\n",
       "      <th>37588</th>\n",
       "      <td>681001489.0</td>\n",
       "      <td>6276</td>\n",
       "    </tr>\n",
       "    <tr>\n",
       "      <th>39899</th>\n",
       "      <td>841300130.0</td>\n",
       "      <td>6172</td>\n",
       "    </tr>\n",
       "    <tr>\n",
       "      <th>36998</th>\n",
       "      <td>660080207.0</td>\n",
       "      <td>5897</td>\n",
       "    </tr>\n",
       "    <tr>\n",
       "      <th>39924</th>\n",
       "      <td>841450900.0</td>\n",
       "      <td>5728</td>\n",
       "    </tr>\n",
       "    <tr>\n",
       "      <th>39875</th>\n",
       "      <td>841101100.0</td>\n",
       "      <td>5526</td>\n",
       "    </tr>\n",
       "  </tbody>\n",
       "</table>\n",
       "</div>"
      ],
      "text/plain": [
       "        Article_ID  total_users\n",
       "32693  556800290.0         8813\n",
       "40452  848600100.0         7957\n",
       "38165  715180033.0         7021\n",
       "39943  842000200.0         6774\n",
       "39868  841100500.0         6697\n",
       "37588  681001489.0         6276\n",
       "39899  841300130.0         6172\n",
       "36998  660080207.0         5897\n",
       "39924  841450900.0         5728\n",
       "39875  841101100.0         5526"
      ]
     },
     "execution_count": 85,
     "metadata": {},
     "output_type": "execute_result"
    }
   ],
   "source": [
    "\n",
    "product_unique_users = df.groupby('Article_ID')['Cust_ID'].nunique().reset_index().rename(columns={'Cust_ID':'total_users'})\n",
    "product_unique_users.sort_values('total_users', ascending = False).head(10)"
   ]
  },
  {
   "cell_type": "markdown",
   "metadata": {},
   "source": [
    "Article with the id = 556800290 is the most popular one among customers ( 8813 customers have purchased it ) "
   ]
  },
  {
   "cell_type": "code",
   "execution_count": 89,
   "metadata": {},
   "outputs": [
    {
     "data": {
      "text/html": [
       "<div>\n",
       "<style scoped>\n",
       "    .dataframe tbody tr th:only-of-type {\n",
       "        vertical-align: middle;\n",
       "    }\n",
       "\n",
       "    .dataframe tbody tr th {\n",
       "        vertical-align: top;\n",
       "    }\n",
       "\n",
       "    .dataframe thead th {\n",
       "        text-align: right;\n",
       "    }\n",
       "</style>\n",
       "<table border=\"1\" class=\"dataframe\">\n",
       "  <thead>\n",
       "    <tr style=\"text-align: right;\">\n",
       "      <th></th>\n",
       "      <th>Article_ID</th>\n",
       "      <th>total_users</th>\n",
       "      <th>cum_users</th>\n",
       "    </tr>\n",
       "  </thead>\n",
       "  <tbody>\n",
       "    <tr>\n",
       "      <th>0</th>\n",
       "      <td>556800290.0</td>\n",
       "      <td>8813</td>\n",
       "      <td>8813</td>\n",
       "    </tr>\n",
       "    <tr>\n",
       "      <th>1</th>\n",
       "      <td>848600100.0</td>\n",
       "      <td>7957</td>\n",
       "      <td>16770</td>\n",
       "    </tr>\n",
       "    <tr>\n",
       "      <th>2</th>\n",
       "      <td>715180033.0</td>\n",
       "      <td>7021</td>\n",
       "      <td>23791</td>\n",
       "    </tr>\n",
       "    <tr>\n",
       "      <th>3</th>\n",
       "      <td>842000200.0</td>\n",
       "      <td>6774</td>\n",
       "      <td>30565</td>\n",
       "    </tr>\n",
       "    <tr>\n",
       "      <th>4</th>\n",
       "      <td>841100500.0</td>\n",
       "      <td>6697</td>\n",
       "      <td>37262</td>\n",
       "    </tr>\n",
       "  </tbody>\n",
       "</table>\n",
       "</div>"
      ],
      "text/plain": [
       "    Article_ID  total_users  cum_users\n",
       "0  556800290.0         8813       8813\n",
       "1  848600100.0         7957      16770\n",
       "2  715180033.0         7021      23791\n",
       "3  842000200.0         6774      30565\n",
       "4  841100500.0         6697      37262"
      ]
     },
     "execution_count": 89,
     "metadata": {},
     "output_type": "execute_result"
    }
   ],
   "source": [
    "# cumulative sum of unique users (customers) per product \n",
    "\n",
    "dfcum = product_unique_users.sort_values(\"total_users\", ascending=False)\n",
    "dfcum['cum_users'] = dfcum['total_users'].cumsum()\n",
    "dfcum = dfcum.reset_index(drop=True)\n",
    "dfcum.head()"
   ]
  },
  {
   "cell_type": "code",
   "execution_count": 90,
   "metadata": {},
   "outputs": [
    {
     "data": {
      "image/png": "[encoded data removed]",
      "text/plain": [
       "<Figure size 1080x576 with 1 Axes>"
      ]
     },
     "metadata": {
      "needs_background": "light"
     },
     "output_type": "display_data"
    }
   ],
   "source": [
    "fig, ax = plt.subplots(figsize=(15,8))\n",
    "ax = sns.lineplot(x = dfcum.index, y=dfcum.cum_users)\n",
    "ax.set_xlabel(\"Products\", size = 9)\n",
    "ax.set_ylabel(\"Cumulative Sum of Unique customers\", size = 9)\n",
    "ax.set_title(\"Cumulative Sum of Unique customers Per Product\", size = 12)\n",
    "plt.show()"
   ]
  },
  {
   "cell_type": "markdown",
   "metadata": {},
   "source": [
    "* Which 'rayons' , 'groups' are the most popular among customers "
   ]
  },
  {
   "cell_type": "code",
   "execution_count": null,
   "metadata": {},
   "outputs": [],
   "source": [
    "##############################################TO DEVELOP#######################"
   ]
  },
  {
   "cell_type": "markdown",
   "metadata": {},
   "source": [
    "* Frequency of total visits/purchases per customer"
   ]
  },
  {
   "cell_type": "code",
   "execution_count": 91,
   "metadata": {},
   "outputs": [
    {
     "data": {
      "text/html": [
       "<div>\n",
       "<style scoped>\n",
       "    .dataframe tbody tr th:only-of-type {\n",
       "        vertical-align: middle;\n",
       "    }\n",
       "\n",
       "    .dataframe tbody tr th {\n",
       "        vertical-align: top;\n",
       "    }\n",
       "\n",
       "    .dataframe thead th {\n",
       "        text-align: right;\n",
       "    }\n",
       "</style>\n",
       "<table border=\"1\" class=\"dataframe\">\n",
       "  <thead>\n",
       "    <tr style=\"text-align: right;\">\n",
       "      <th></th>\n",
       "      <th>Store_ID</th>\n",
       "      <th>Date</th>\n",
       "      <th>Basket_ID</th>\n",
       "      <th>Structure_ID</th>\n",
       "      <th>Article_ID</th>\n",
       "      <th>Quantity</th>\n",
       "      <th>Amount_Paid</th>\n",
       "      <th>Cust_ID</th>\n",
       "      <th>Year</th>\n",
       "      <th>Month</th>\n",
       "      <th>Week</th>\n",
       "      <th>Day of Week</th>\n",
       "    </tr>\n",
       "  </thead>\n",
       "  <tbody>\n",
       "    <tr>\n",
       "      <th>0</th>\n",
       "      <td>91</td>\n",
       "      <td>2017-01-01</td>\n",
       "      <td>91010227</td>\n",
       "      <td>2512384190301</td>\n",
       "      <td>392900030.0</td>\n",
       "      <td>1.0</td>\n",
       "      <td>1.390</td>\n",
       "      <td>18579</td>\n",
       "      <td>2017</td>\n",
       "      <td>1</td>\n",
       "      <td>52</td>\n",
       "      <td>Sunday</td>\n",
       "    </tr>\n",
       "    <tr>\n",
       "      <th>1</th>\n",
       "      <td>91</td>\n",
       "      <td>2017-01-01</td>\n",
       "      <td>91010227</td>\n",
       "      <td>2544340090301</td>\n",
       "      <td>396900550.0</td>\n",
       "      <td>1.0</td>\n",
       "      <td>2.500</td>\n",
       "      <td>18579</td>\n",
       "      <td>2017</td>\n",
       "      <td>1</td>\n",
       "      <td>52</td>\n",
       "      <td>Sunday</td>\n",
       "    </tr>\n",
       "    <tr>\n",
       "      <th>2</th>\n",
       "      <td>91</td>\n",
       "      <td>2017-01-01</td>\n",
       "      <td>91010227</td>\n",
       "      <td>2866718070977</td>\n",
       "      <td>25000135.0</td>\n",
       "      <td>1.0</td>\n",
       "      <td>2.600</td>\n",
       "      <td>18579</td>\n",
       "      <td>2017</td>\n",
       "      <td>1</td>\n",
       "      <td>52</td>\n",
       "      <td>Sunday</td>\n",
       "    </tr>\n",
       "    <tr>\n",
       "      <th>3</th>\n",
       "      <td>91</td>\n",
       "      <td>2017-01-01</td>\n",
       "      <td>91010227</td>\n",
       "      <td>2866718070977</td>\n",
       "      <td>25000145.0</td>\n",
       "      <td>1.0</td>\n",
       "      <td>2.450</td>\n",
       "      <td>18579</td>\n",
       "      <td>2017</td>\n",
       "      <td>1</td>\n",
       "      <td>52</td>\n",
       "      <td>Sunday</td>\n",
       "    </tr>\n",
       "    <tr>\n",
       "      <th>4</th>\n",
       "      <td>91</td>\n",
       "      <td>2017-01-01</td>\n",
       "      <td>91010227</td>\n",
       "      <td>2866718071177</td>\n",
       "      <td>24400444.0</td>\n",
       "      <td>2.0</td>\n",
       "      <td>5.380</td>\n",
       "      <td>18579</td>\n",
       "      <td>2017</td>\n",
       "      <td>1</td>\n",
       "      <td>52</td>\n",
       "      <td>Sunday</td>\n",
       "    </tr>\n",
       "    <tr>\n",
       "      <th>...</th>\n",
       "      <td>...</td>\n",
       "      <td>...</td>\n",
       "      <td>...</td>\n",
       "      <td>...</td>\n",
       "      <td>...</td>\n",
       "      <td>...</td>\n",
       "      <td>...</td>\n",
       "      <td>...</td>\n",
       "      <td>...</td>\n",
       "      <td>...</td>\n",
       "      <td>...</td>\n",
       "      <td>...</td>\n",
       "    </tr>\n",
       "    <tr>\n",
       "      <th>1960989</th>\n",
       "      <td>91</td>\n",
       "      <td>2018-12-31</td>\n",
       "      <td>91648594</td>\n",
       "      <td>2865438133779</td>\n",
       "      <td>71032374.0</td>\n",
       "      <td>2.0</td>\n",
       "      <td>9.091</td>\n",
       "      <td>796985</td>\n",
       "      <td>2018</td>\n",
       "      <td>12</td>\n",
       "      <td>1</td>\n",
       "      <td>Monday</td>\n",
       "    </tr>\n",
       "    <tr>\n",
       "      <th>1960990</th>\n",
       "      <td>91</td>\n",
       "      <td>2018-12-31</td>\n",
       "      <td>91648594</td>\n",
       "      <td>2866480013777</td>\n",
       "      <td>70633122.0</td>\n",
       "      <td>1.0</td>\n",
       "      <td>1.818</td>\n",
       "      <td>796985</td>\n",
       "      <td>2018</td>\n",
       "      <td>12</td>\n",
       "      <td>1</td>\n",
       "      <td>Monday</td>\n",
       "    </tr>\n",
       "    <tr>\n",
       "      <th>1960991</th>\n",
       "      <td>91</td>\n",
       "      <td>2018-12-31</td>\n",
       "      <td>91648594</td>\n",
       "      <td>2866480037979</td>\n",
       "      <td>70632850.0</td>\n",
       "      <td>2.0</td>\n",
       "      <td>3.636</td>\n",
       "      <td>796985</td>\n",
       "      <td>2018</td>\n",
       "      <td>12</td>\n",
       "      <td>1</td>\n",
       "      <td>Monday</td>\n",
       "    </tr>\n",
       "    <tr>\n",
       "      <th>1960992</th>\n",
       "      <td>91</td>\n",
       "      <td>2018-12-31</td>\n",
       "      <td>91648594</td>\n",
       "      <td>2866480037979</td>\n",
       "      <td>70730410.0</td>\n",
       "      <td>1.0</td>\n",
       "      <td>1.818</td>\n",
       "      <td>796985</td>\n",
       "      <td>2018</td>\n",
       "      <td>12</td>\n",
       "      <td>1</td>\n",
       "      <td>Monday</td>\n",
       "    </tr>\n",
       "    <tr>\n",
       "      <th>1960993</th>\n",
       "      <td>91</td>\n",
       "      <td>2018-12-31</td>\n",
       "      <td>91648594</td>\n",
       "      <td>2866480037979</td>\n",
       "      <td>70730412.0</td>\n",
       "      <td>1.0</td>\n",
       "      <td>1.818</td>\n",
       "      <td>796985</td>\n",
       "      <td>2018</td>\n",
       "      <td>12</td>\n",
       "      <td>1</td>\n",
       "      <td>Monday</td>\n",
       "    </tr>\n",
       "  </tbody>\n",
       "</table>\n",
       "<p>3921694 rows × 12 columns</p>\n",
       "</div>"
      ],
      "text/plain": [
       "         Store_ID       Date  Basket_ID   Structure_ID   Article_ID  Quantity  \\\n",
       "0              91 2017-01-01   91010227  2512384190301  392900030.0       1.0   \n",
       "1              91 2017-01-01   91010227  2544340090301  396900550.0       1.0   \n",
       "2              91 2017-01-01   91010227  2866718070977   25000135.0       1.0   \n",
       "3              91 2017-01-01   91010227  2866718070977   25000145.0       1.0   \n",
       "4              91 2017-01-01   91010227  2866718071177   24400444.0       2.0   \n",
       "...           ...        ...        ...            ...          ...       ...   \n",
       "1960989        91 2018-12-31   91648594  2865438133779   71032374.0       2.0   \n",
       "1960990        91 2018-12-31   91648594  2866480013777   70633122.0       1.0   \n",
       "1960991        91 2018-12-31   91648594  2866480037979   70632850.0       2.0   \n",
       "1960992        91 2018-12-31   91648594  2866480037979   70730410.0       1.0   \n",
       "1960993        91 2018-12-31   91648594  2866480037979   70730412.0       1.0   \n",
       "\n",
       "         Amount_Paid  Cust_ID  Year  Month  Week Day of Week  \n",
       "0              1.390    18579  2017      1    52      Sunday  \n",
       "1              2.500    18579  2017      1    52      Sunday  \n",
       "2              2.600    18579  2017      1    52      Sunday  \n",
       "3              2.450    18579  2017      1    52      Sunday  \n",
       "4              5.380    18579  2017      1    52      Sunday  \n",
       "...              ...      ...   ...    ...   ...         ...  \n",
       "1960989        9.091   796985  2018     12     1      Monday  \n",
       "1960990        1.818   796985  2018     12     1      Monday  \n",
       "1960991        3.636   796985  2018     12     1      Monday  \n",
       "1960992        1.818   796985  2018     12     1      Monday  \n",
       "1960993        1.818   796985  2018     12     1      Monday  \n",
       "\n",
       "[3921694 rows x 12 columns]"
      ]
     },
     "execution_count": 91,
     "metadata": {},
     "output_type": "execute_result"
    }
   ],
   "source": [
    "df"
   ]
  },
  {
   "cell_type": "markdown",
   "metadata": {},
   "source": [
    "## RFM"
   ]
  },
  {
   "cell_type": "markdown",
   "metadata": {},
   "source": [
    "Frequency : "
   ]
  },
  {
   "cell_type": "code",
   "execution_count": 107,
   "metadata": {},
   "outputs": [
    {
     "data": {
      "text/html": [
       "<div>\n",
       "<style scoped>\n",
       "    .dataframe tbody tr th:only-of-type {\n",
       "        vertical-align: middle;\n",
       "    }\n",
       "\n",
       "    .dataframe tbody tr th {\n",
       "        vertical-align: top;\n",
       "    }\n",
       "\n",
       "    .dataframe thead th {\n",
       "        text-align: right;\n",
       "    }\n",
       "</style>\n",
       "<table border=\"1\" class=\"dataframe\">\n",
       "  <thead>\n",
       "    <tr style=\"text-align: right;\">\n",
       "      <th></th>\n",
       "      <th>Cust_ID</th>\n",
       "      <th>Frequency</th>\n",
       "    </tr>\n",
       "  </thead>\n",
       "  <tbody>\n",
       "    <tr>\n",
       "      <th>0</th>\n",
       "      <td>8</td>\n",
       "      <td>93</td>\n",
       "    </tr>\n",
       "    <tr>\n",
       "      <th>1</th>\n",
       "      <td>50</td>\n",
       "      <td>234</td>\n",
       "    </tr>\n",
       "    <tr>\n",
       "      <th>2</th>\n",
       "      <td>72</td>\n",
       "      <td>1</td>\n",
       "    </tr>\n",
       "    <tr>\n",
       "      <th>3</th>\n",
       "      <td>91</td>\n",
       "      <td>5</td>\n",
       "    </tr>\n",
       "    <tr>\n",
       "      <th>4</th>\n",
       "      <td>112</td>\n",
       "      <td>1</td>\n",
       "    </tr>\n",
       "  </tbody>\n",
       "</table>\n",
       "</div>"
      ],
      "text/plain": [
       "   Cust_ID  Frequency\n",
       "0        8         93\n",
       "1       50        234\n",
       "2       72          1\n",
       "3       91          5\n",
       "4      112          1"
      ]
     },
     "execution_count": 107,
     "metadata": {},
     "output_type": "execute_result"
    }
   ],
   "source": [
    "#check frequency of customer means how many transaction has been done..\n",
    "\n",
    "frequency_df = df.copy()\n",
    "frequency_df.drop_duplicates(subset=['Cust_ID','Basket_ID'], keep=\"first\", inplace=True) \n",
    "frequency_df = frequency_df.groupby('Cust_ID',as_index=False)['Basket_ID'].count()\n",
    "frequency_df.columns = ['Cust_ID','Frequency']\n",
    "frequency_df.head()"
   ]
  },
  {
   "cell_type": "markdown",
   "metadata": {},
   "source": [
    "Recensy :"
   ]
  },
  {
   "cell_type": "code",
   "execution_count": 121,
   "metadata": {},
   "outputs": [],
   "source": [
    "ref = datetime.strptime('2017-12', '%Y-%m')\n",
    "df['last_purchase'] = df.Date.apply(lambda x: \\\n",
    "                                        relativedelta(ref,x).years*12 + relativedelta(ref,x).months)\n",
    "\n",
    "#since l data teena kolha fi 2017, relativedelta(ref, x).years \"diff between ref and x ,years wise\" gives us 0 \n",
    "\n",
    "Recency = df.groupby('Cust_ID').agg({'last_purchase' : 'min'}).copy().rename(columns= {'Mnths_since_purchase':'Recency'})\n",
    "# recensy: ekher ch'har chré fih ..."
   ]
  },
  {
   "cell_type": "code",
   "execution_count": 123,
   "metadata": {},
   "outputs": [
    {
     "data": {
      "text/html": [
       "<div>\n",
       "<style scoped>\n",
       "    .dataframe tbody tr th:only-of-type {\n",
       "        vertical-align: middle;\n",
       "    }\n",
       "\n",
       "    .dataframe tbody tr th {\n",
       "        vertical-align: top;\n",
       "    }\n",
       "\n",
       "    .dataframe thead th {\n",
       "        text-align: right;\n",
       "    }\n",
       "</style>\n",
       "<table border=\"1\" class=\"dataframe\">\n",
       "  <thead>\n",
       "    <tr style=\"text-align: right;\">\n",
       "      <th></th>\n",
       "      <th>Cust_ID</th>\n",
       "      <th>last_purchase</th>\n",
       "    </tr>\n",
       "  </thead>\n",
       "  <tbody>\n",
       "    <tr>\n",
       "      <th>0</th>\n",
       "      <td>8</td>\n",
       "      <td>2018-12-23</td>\n",
       "    </tr>\n",
       "    <tr>\n",
       "      <th>1</th>\n",
       "      <td>50</td>\n",
       "      <td>2018-12-31</td>\n",
       "    </tr>\n",
       "    <tr>\n",
       "      <th>2</th>\n",
       "      <td>72</td>\n",
       "      <td>2018-12-08</td>\n",
       "    </tr>\n",
       "    <tr>\n",
       "      <th>3</th>\n",
       "      <td>91</td>\n",
       "      <td>2018-12-09</td>\n",
       "    </tr>\n",
       "    <tr>\n",
       "      <th>4</th>\n",
       "      <td>112</td>\n",
       "      <td>2017-06-18</td>\n",
       "    </tr>\n",
       "  </tbody>\n",
       "</table>\n",
       "</div>"
      ],
      "text/plain": [
       "   Cust_ID last_purchase\n",
       "0        8    2018-12-23\n",
       "1       50    2018-12-31\n",
       "2       72    2018-12-08\n",
       "3       91    2018-12-09\n",
       "4      112    2017-06-18"
      ]
     },
     "execution_count": 123,
     "metadata": {},
     "output_type": "execute_result"
    }
   ],
   "source": [
    "#group by customer by last date they purchased...\n",
    "\n",
    "recency_df = df.groupby(['Cust_ID'],as_index=False)['Date'].max()\n",
    "recency_df.columns = ['Cust_ID','last_purchase']\n",
    "recency_df.head()"
   ]
  },
  {
   "cell_type": "code",
   "execution_count": 124,
   "metadata": {},
   "outputs": [],
   "source": [
    "ref = datetime.strptime('2018-12-31', '%Y-%m-%d')"
   ]
  },
  {
   "cell_type": "code",
   "execution_count": 126,
   "metadata": {},
   "outputs": [],
   "source": [
    "recency_df['Recency'] = recency_df.last_purchase.apply(lambda x : (ref - x).days)"
   ]
  },
  {
   "cell_type": "code",
   "execution_count": 127,
   "metadata": {},
   "outputs": [
    {
     "data": {
      "text/html": [
       "<div>\n",
       "<style scoped>\n",
       "    .dataframe tbody tr th:only-of-type {\n",
       "        vertical-align: middle;\n",
       "    }\n",
       "\n",
       "    .dataframe tbody tr th {\n",
       "        vertical-align: top;\n",
       "    }\n",
       "\n",
       "    .dataframe thead th {\n",
       "        text-align: right;\n",
       "    }\n",
       "</style>\n",
       "<table border=\"1\" class=\"dataframe\">\n",
       "  <thead>\n",
       "    <tr style=\"text-align: right;\">\n",
       "      <th></th>\n",
       "      <th>Cust_ID</th>\n",
       "      <th>last_purchase</th>\n",
       "      <th>Recency</th>\n",
       "    </tr>\n",
       "  </thead>\n",
       "  <tbody>\n",
       "    <tr>\n",
       "      <th>0</th>\n",
       "      <td>8</td>\n",
       "      <td>2018-12-23</td>\n",
       "      <td>8</td>\n",
       "    </tr>\n",
       "    <tr>\n",
       "      <th>1</th>\n",
       "      <td>50</td>\n",
       "      <td>2018-12-31</td>\n",
       "      <td>0</td>\n",
       "    </tr>\n",
       "    <tr>\n",
       "      <th>2</th>\n",
       "      <td>72</td>\n",
       "      <td>2018-12-08</td>\n",
       "      <td>23</td>\n",
       "    </tr>\n",
       "    <tr>\n",
       "      <th>3</th>\n",
       "      <td>91</td>\n",
       "      <td>2018-12-09</td>\n",
       "      <td>22</td>\n",
       "    </tr>\n",
       "    <tr>\n",
       "      <th>4</th>\n",
       "      <td>112</td>\n",
       "      <td>2017-06-18</td>\n",
       "      <td>561</td>\n",
       "    </tr>\n",
       "  </tbody>\n",
       "</table>\n",
       "</div>"
      ],
      "text/plain": [
       "   Cust_ID last_purchase  Recency\n",
       "0        8    2018-12-23        8\n",
       "1       50    2018-12-31        0\n",
       "2       72    2018-12-08       23\n",
       "3       91    2018-12-09       22\n",
       "4      112    2017-06-18      561"
      ]
     },
     "execution_count": 127,
     "metadata": {},
     "output_type": "execute_result"
    }
   ],
   "source": [
    "recency_df.head()"
   ]
  },
  {
   "cell_type": "markdown",
   "metadata": {},
   "source": [
    "* Monetary"
   ]
  },
  {
   "cell_type": "code",
   "execution_count": 128,
   "metadata": {},
   "outputs": [],
   "source": [
    "#check summed up spend of a customer with respect to latest date..\n",
    "\n",
    "monetary_df=df.groupby('Cust_ID',as_index=False)['Amount_Paid'].sum()\n",
    "monetary_df.columns = ['Cust_ID','Monetary']"
   ]
  },
  {
   "cell_type": "code",
   "execution_count": 129,
   "metadata": {},
   "outputs": [
    {
     "data": {
      "text/html": [
       "<div>\n",
       "<style scoped>\n",
       "    .dataframe tbody tr th:only-of-type {\n",
       "        vertical-align: middle;\n",
       "    }\n",
       "\n",
       "    .dataframe tbody tr th {\n",
       "        vertical-align: top;\n",
       "    }\n",
       "\n",
       "    .dataframe thead th {\n",
       "        text-align: right;\n",
       "    }\n",
       "</style>\n",
       "<table border=\"1\" class=\"dataframe\">\n",
       "  <thead>\n",
       "    <tr style=\"text-align: right;\">\n",
       "      <th></th>\n",
       "      <th>Cust_ID</th>\n",
       "      <th>Monetary</th>\n",
       "    </tr>\n",
       "  </thead>\n",
       "  <tbody>\n",
       "    <tr>\n",
       "      <th>0</th>\n",
       "      <td>8</td>\n",
       "      <td>3210.558</td>\n",
       "    </tr>\n",
       "    <tr>\n",
       "      <th>1</th>\n",
       "      <td>50</td>\n",
       "      <td>3458.033</td>\n",
       "    </tr>\n",
       "    <tr>\n",
       "      <th>2</th>\n",
       "      <td>72</td>\n",
       "      <td>7.580</td>\n",
       "    </tr>\n",
       "    <tr>\n",
       "      <th>3</th>\n",
       "      <td>91</td>\n",
       "      <td>109.470</td>\n",
       "    </tr>\n",
       "    <tr>\n",
       "      <th>4</th>\n",
       "      <td>112</td>\n",
       "      <td>55.200</td>\n",
       "    </tr>\n",
       "  </tbody>\n",
       "</table>\n",
       "</div>"
      ],
      "text/plain": [
       "   Cust_ID  Monetary\n",
       "0        8  3210.558\n",
       "1       50  3458.033\n",
       "2       72     7.580\n",
       "3       91   109.470\n",
       "4      112    55.200"
      ]
     },
     "execution_count": 129,
     "metadata": {},
     "output_type": "execute_result"
    }
   ],
   "source": [
    "monetary_df.head()"
   ]
  },
  {
   "cell_type": "code",
   "execution_count": 130,
   "metadata": {},
   "outputs": [],
   "source": [
    "#Combine all together all dataframe in so we have recency, frequency and monetary values together..\n",
    "\n",
    "#combine first recency and frequency..\n",
    "rf = recency_df.merge(frequency_df,left_on='Cust_ID',right_on='Cust_ID')\n",
    "\n",
    "#combibe rf frame with monetary values..\n",
    "\n",
    "rfm = rf.merge(monetary_df,left_on='Cust_ID',right_on='Cust_ID')\n",
    "\n",
    "rfm.set_index('Cust_ID',inplace=True)"
   ]
  },
  {
   "cell_type": "code",
   "execution_count": 131,
   "metadata": {},
   "outputs": [
    {
     "data": {
      "text/html": [
       "<div>\n",
       "<style scoped>\n",
       "    .dataframe tbody tr th:only-of-type {\n",
       "        vertical-align: middle;\n",
       "    }\n",
       "\n",
       "    .dataframe tbody tr th {\n",
       "        vertical-align: top;\n",
       "    }\n",
       "\n",
       "    .dataframe thead th {\n",
       "        text-align: right;\n",
       "    }\n",
       "</style>\n",
       "<table border=\"1\" class=\"dataframe\">\n",
       "  <thead>\n",
       "    <tr style=\"text-align: right;\">\n",
       "      <th></th>\n",
       "      <th>last_purchase</th>\n",
       "      <th>Recency</th>\n",
       "      <th>Frequency</th>\n",
       "      <th>Monetary</th>\n",
       "    </tr>\n",
       "    <tr>\n",
       "      <th>Cust_ID</th>\n",
       "      <th></th>\n",
       "      <th></th>\n",
       "      <th></th>\n",
       "      <th></th>\n",
       "    </tr>\n",
       "  </thead>\n",
       "  <tbody>\n",
       "    <tr>\n",
       "      <th>8</th>\n",
       "      <td>2018-12-23</td>\n",
       "      <td>8</td>\n",
       "      <td>93</td>\n",
       "      <td>3210.558</td>\n",
       "    </tr>\n",
       "    <tr>\n",
       "      <th>50</th>\n",
       "      <td>2018-12-31</td>\n",
       "      <td>0</td>\n",
       "      <td>234</td>\n",
       "      <td>3458.033</td>\n",
       "    </tr>\n",
       "    <tr>\n",
       "      <th>72</th>\n",
       "      <td>2018-12-08</td>\n",
       "      <td>23</td>\n",
       "      <td>1</td>\n",
       "      <td>7.580</td>\n",
       "    </tr>\n",
       "    <tr>\n",
       "      <th>91</th>\n",
       "      <td>2018-12-09</td>\n",
       "      <td>22</td>\n",
       "      <td>5</td>\n",
       "      <td>109.470</td>\n",
       "    </tr>\n",
       "    <tr>\n",
       "      <th>112</th>\n",
       "      <td>2017-06-18</td>\n",
       "      <td>561</td>\n",
       "      <td>1</td>\n",
       "      <td>55.200</td>\n",
       "    </tr>\n",
       "  </tbody>\n",
       "</table>\n",
       "</div>"
      ],
      "text/plain": [
       "        last_purchase  Recency  Frequency  Monetary\n",
       "Cust_ID                                            \n",
       "8          2018-12-23        8         93  3210.558\n",
       "50         2018-12-31        0        234  3458.033\n",
       "72         2018-12-08       23          1     7.580\n",
       "91         2018-12-09       22          5   109.470\n",
       "112        2017-06-18      561          1    55.200"
      ]
     },
     "execution_count": 131,
     "metadata": {},
     "output_type": "execute_result"
    }
   ],
   "source": [
    "rfm.head()"
   ]
  },
  {
   "cell_type": "code",
   "execution_count": 132,
   "metadata": {},
   "outputs": [],
   "source": [
    "\n",
    "rfm_segmentation = rfm.copy()"
   ]
  },
  {
   "cell_type": "code",
   "execution_count": 138,
   "metadata": {},
   "outputs": [],
   "source": [
    "rfm_segmentation=rfm_segmentation.drop('last_purchase', axis=1)"
   ]
  },
  {
   "cell_type": "code",
   "execution_count": 139,
   "metadata": {},
   "outputs": [],
   "source": [
    "from sklearn.cluster import KMeans"
   ]
  },
  {
   "cell_type": "code",
   "execution_count": 140,
   "metadata": {},
   "outputs": [
    {
     "data": {
      "image/png": "[encoded data removed]",
      "text/plain": [
       "<Figure size 432x288 with 1 Axes>"
      ]
     },
     "metadata": {
      "needs_background": "light"
     },
     "output_type": "display_data"
    }
   ],
   "source": [
    "\n",
    "# get right number of cluster for K-means so we neeed to loop from 1 to 20 number of cluster and check score.\n",
    "#Elbow method is used to represnt that. \n",
    "Nc = range(1, 20)\n",
    "kmeans = [KMeans(n_clusters=i) for i in Nc]\n",
    "score = [kmeans[i].fit(rfm_segmentation).score(rfm_segmentation) for i in range(len(kmeans))]\n",
    "plt.plot(Nc,score)\n",
    "plt.xlabel('Number of Clusters')\n",
    "plt.ylabel('Score')\n",
    "plt.title('Elbow Curve')\n",
    "plt.show()"
   ]
  },
  {
   "cell_type": "code",
   "execution_count": 141,
   "metadata": {},
   "outputs": [],
   "source": [
    "#fitting data in Kmeans theorem.\n",
    "kmeans = KMeans(n_clusters=4, random_state=0).fit(rfm_segmentation)"
   ]
  },
  {
   "cell_type": "code",
   "execution_count": 142,
   "metadata": {},
   "outputs": [],
   "source": [
    "# this creates a new column called cluster which has cluster number for each row respectively.\n",
    "rfm_segmentation['cluster'] = kmeans.labels_"
   ]
  },
  {
   "cell_type": "code",
   "execution_count": 145,
   "metadata": {},
   "outputs": [
    {
     "data": {
      "text/html": [
       "<div>\n",
       "<style scoped>\n",
       "    .dataframe tbody tr th:only-of-type {\n",
       "        vertical-align: middle;\n",
       "    }\n",
       "\n",
       "    .dataframe tbody tr th {\n",
       "        vertical-align: top;\n",
       "    }\n",
       "\n",
       "    .dataframe thead th {\n",
       "        text-align: right;\n",
       "    }\n",
       "</style>\n",
       "<table border=\"1\" class=\"dataframe\">\n",
       "  <thead>\n",
       "    <tr style=\"text-align: right;\">\n",
       "      <th></th>\n",
       "      <th>Recency</th>\n",
       "      <th>Frequency</th>\n",
       "      <th>Monetary</th>\n",
       "      <th>cluster</th>\n",
       "    </tr>\n",
       "    <tr>\n",
       "      <th>Cust_ID</th>\n",
       "      <th></th>\n",
       "      <th></th>\n",
       "      <th></th>\n",
       "      <th></th>\n",
       "    </tr>\n",
       "  </thead>\n",
       "  <tbody>\n",
       "    <tr>\n",
       "      <th>72</th>\n",
       "      <td>23</td>\n",
       "      <td>1</td>\n",
       "      <td>7.580</td>\n",
       "      <td>0</td>\n",
       "    </tr>\n",
       "    <tr>\n",
       "      <th>91</th>\n",
       "      <td>22</td>\n",
       "      <td>5</td>\n",
       "      <td>109.470</td>\n",
       "      <td>0</td>\n",
       "    </tr>\n",
       "    <tr>\n",
       "      <th>112</th>\n",
       "      <td>561</td>\n",
       "      <td>1</td>\n",
       "      <td>55.200</td>\n",
       "      <td>0</td>\n",
       "    </tr>\n",
       "    <tr>\n",
       "      <th>134</th>\n",
       "      <td>384</td>\n",
       "      <td>6</td>\n",
       "      <td>38.690</td>\n",
       "      <td>0</td>\n",
       "    </tr>\n",
       "    <tr>\n",
       "      <th>181</th>\n",
       "      <td>0</td>\n",
       "      <td>34</td>\n",
       "      <td>730.054</td>\n",
       "      <td>0</td>\n",
       "    </tr>\n",
       "    <tr>\n",
       "      <th>187</th>\n",
       "      <td>703</td>\n",
       "      <td>1</td>\n",
       "      <td>34.070</td>\n",
       "      <td>0</td>\n",
       "    </tr>\n",
       "    <tr>\n",
       "      <th>234</th>\n",
       "      <td>108</td>\n",
       "      <td>3</td>\n",
       "      <td>38.325</td>\n",
       "      <td>0</td>\n",
       "    </tr>\n",
       "    <tr>\n",
       "      <th>282</th>\n",
       "      <td>563</td>\n",
       "      <td>5</td>\n",
       "      <td>78.785</td>\n",
       "      <td>0</td>\n",
       "    </tr>\n",
       "    <tr>\n",
       "      <th>308</th>\n",
       "      <td>254</td>\n",
       "      <td>4</td>\n",
       "      <td>100.605</td>\n",
       "      <td>0</td>\n",
       "    </tr>\n",
       "    <tr>\n",
       "      <th>357</th>\n",
       "      <td>422</td>\n",
       "      <td>4</td>\n",
       "      <td>72.913</td>\n",
       "      <td>0</td>\n",
       "    </tr>\n",
       "  </tbody>\n",
       "</table>\n",
       "</div>"
      ],
      "text/plain": [
       "         Recency  Frequency  Monetary  cluster\n",
       "Cust_ID                                       \n",
       "72            23          1     7.580        0\n",
       "91            22          5   109.470        0\n",
       "112          561          1    55.200        0\n",
       "134          384          6    38.690        0\n",
       "181            0         34   730.054        0\n",
       "187          703          1    34.070        0\n",
       "234          108          3    38.325        0\n",
       "282          563          5    78.785        0\n",
       "308          254          4   100.605        0\n",
       "357          422          4    72.913        0"
      ]
     },
     "execution_count": 145,
     "metadata": {},
     "output_type": "execute_result"
    }
   ],
   "source": [
    "#check our hypothesis\n",
    "\n",
    "rfm_segmentation[rfm_segmentation.cluster == 0].head(10)"
   ]
  },
  {
   "cell_type": "code",
   "execution_count": 146,
   "metadata": {},
   "outputs": [
    {
     "name": "stderr",
     "output_type": "stream",
     "text": [
      "C:\\Users\\LENOVO\\anaconda3\\lib\\site-packages\\seaborn\\_decorators.py:36: FutureWarning: Pass the following variables as keyword args: x, y. From version 0.12, the only valid positional argument will be `data`, and passing other arguments without an explicit keyword will result in an error or misinterpretation.\n",
      "  warnings.warn(\n"
     ]
    },
    {
     "data": {
      "text/plain": [
       "<AxesSubplot:xlabel='cluster', ylabel='Recency'>"
      ]
     },
     "execution_count": 146,
     "metadata": {},
     "output_type": "execute_result"
    },
    {
     "data": {
      "image/png": "[encoded data removed]",
      "text/plain": [
       "<Figure size 432x288 with 1 Axes>"
      ]
     },
     "metadata": {
      "needs_background": "light"
     },
     "output_type": "display_data"
    }
   ],
   "source": [
    "sns.boxplot(rfm_segmentation.cluster,rfm_segmentation.Recency)"
   ]
  },
  {
   "cell_type": "markdown",
   "metadata": {},
   "source": [
    "cluster 0 have high recency rate which is bad. cluster 1 and cluster 2 and 3 having low so they are in race of platinum\n",
    "and gold customer."
   ]
  },
  {
   "cell_type": "code",
   "execution_count": 147,
   "metadata": {},
   "outputs": [
    {
     "name": "stderr",
     "output_type": "stream",
     "text": [
      "C:\\Users\\LENOVO\\anaconda3\\lib\\site-packages\\seaborn\\_decorators.py:36: FutureWarning: Pass the following variables as keyword args: x, y. From version 0.12, the only valid positional argument will be `data`, and passing other arguments without an explicit keyword will result in an error or misinterpretation.\n",
      "  warnings.warn(\n"
     ]
    },
    {
     "data": {
      "text/plain": [
       "<AxesSubplot:xlabel='cluster', ylabel='Frequency'>"
      ]
     },
     "execution_count": 147,
     "metadata": {},
     "output_type": "execute_result"
    },
    {
     "data": {
      "image/png": "[encoded data removed]",
      "text/plain": [
       "<Figure size 432x288 with 1 Axes>"
      ]
     },
     "metadata": {
      "needs_background": "light"
     },
     "output_type": "display_data"
    }
   ],
   "source": [
    "\n",
    "sns.boxplot(rfm_segmentation.cluster,rfm_segmentation.Frequency)"
   ]
  },
  {
   "cell_type": "markdown",
   "metadata": {},
   "source": [
    "cluster 0 and 2 have low frequency rate, which is bad "
   ]
  },
  {
   "cell_type": "code",
   "execution_count": 148,
   "metadata": {},
   "outputs": [
    {
     "name": "stderr",
     "output_type": "stream",
     "text": [
      "C:\\Users\\LENOVO\\anaconda3\\lib\\site-packages\\seaborn\\_decorators.py:36: FutureWarning: Pass the following variables as keyword args: x, y. From version 0.12, the only valid positional argument will be `data`, and passing other arguments without an explicit keyword will result in an error or misinterpretation.\n",
      "  warnings.warn(\n"
     ]
    },
    {
     "data": {
      "text/plain": [
       "<AxesSubplot:xlabel='cluster', ylabel='Monetary'>"
      ]
     },
     "execution_count": 148,
     "metadata": {},
     "output_type": "execute_result"
    },
    {
     "data": {
      "image/png": "[encoded data removed]",
      "text/plain": [
       "<Figure size 432x288 with 1 Axes>"
      ]
     },
     "metadata": {
      "needs_background": "light"
     },
     "output_type": "display_data"
    }
   ],
   "source": [
    "sns.boxplot(rfm_segmentation.cluster,rfm_segmentation.Monetary)"
   ]
  },
  {
   "cell_type": "markdown",
   "metadata": {},
   "source": [
    "cluster 0 has low monetary rate which is bad, followed by cluster 2 "
   ]
  },
  {
   "cell_type": "markdown",
   "metadata": {},
   "source": [
    "based in these initial observations, cluster 0 is the worst \n",
    "- cluster 3 is gold \n",
    "- cluster 1 and 2 are very similar .."
   ]
  },
  {
   "cell_type": "code",
   "execution_count": null,
   "metadata": {},
   "outputs": [],
   "source": []
  }
 ],
 "metadata": {
  "kernelspec": {
   "display_name": "Python 3",
   "language": "python",
   "name": "python3"
  },
  "language_info": {
   "codemirror_mode": {
    "name": "ipython",
    "version": 3
   },
   "file_extension": ".py",
   "mimetype": "text/x-python",
   "name": "python",
   "nbconvert_exporter": "python",
   "pygments_lexer": "ipython3",
   "version": "3.8.5"
  }
 },
 "nbformat": 4,
 "nbformat_minor": 4
}
